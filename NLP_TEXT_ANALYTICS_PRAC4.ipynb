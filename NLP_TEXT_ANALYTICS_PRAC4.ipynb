{
 "cells": [
  {
   "cell_type": "code",
   "execution_count": null,
   "metadata": {
    "colab": {
     "base_uri": "https://localhost:8080/",
     "height": 35
    },
    "executionInfo": {
     "elapsed": 803,
     "status": "ok",
     "timestamp": 1710910197900,
     "user": {
      "displayName": "professor",
      "userId": "02563211122263964727"
     },
     "user_tz": -330
    },
    "id": "nGZmQmljL5DW",
    "outputId": "1de87908-c222-427d-9f47-92ea21249efd"
   },
   "outputs": [
    {
     "data": {
      "application/vnd.google.colaboratory.intrinsic+json": {
       "type": "string"
      },
      "text/plain": [
       "'Hello!!I am a simple string'"
      ]
     },
     "execution_count": 8,
     "metadata": {},
     "output_type": "execute_result"
    }
   ],
   "source": [
    "# TSWA_PRACTICAL_4_BASICS_OF_TEXT_ANALYTICS\n",
    "# Working with Text\n",
    "# Types of strings\n",
    "# Simple Strings\n",
    "simple_str1='Hello!!'+'I am a simple string'\n",
    "simple_str1"
   ]
  },
  {
   "cell_type": "code",
   "execution_count": null,
   "metadata": {
    "colab": {
     "base_uri": "https://localhost:8080/"
    },
    "executionInfo": {
     "elapsed": 668,
     "status": "ok",
     "timestamp": 1710910201798,
     "user": {
      "displayName": "professor",
      "userId": "02563211122263964727"
     },
     "user_tz": -330
    },
    "id": "7DWEJJRrMKHT",
    "outputId": "42a581df-0fe1-4826-a683-44b716b1c696"
   },
   "outputs": [
    {
     "name": "stdout",
     "output_type": "stream",
     "text": [
      "Hello!!\n",
      " I am a simple string\n"
     ]
    }
   ],
   "source": [
    "multiline_str2='Hello!!\\n I am a simple string'\n",
    "print(multiline_str2)"
   ]
  },
  {
   "cell_type": "code",
   "execution_count": null,
   "metadata": {
    "colab": {
     "base_uri": "https://localhost:8080/",
     "height": 35
    },
    "executionInfo": {
     "elapsed": 481,
     "status": "ok",
     "timestamp": 1710910403369,
     "user": {
      "displayName": "professor",
      "userId": "02563211122263964727"
     },
     "user_tz": -330
    },
    "id": "ChCRkj15MzKA",
    "outputId": "b2f36402-2b32-410f-b5b1-ab214d039ade"
   },
   "outputs": [
    {
     "data": {
      "application/vnd.google.colaboratory.intrinsic+json": {
       "type": "string"
      },
      "text/plain": [
       "'/content/drive/MyDrive/text_data.txt'"
      ]
     },
     "execution_count": 11,
     "metadata": {},
     "output_type": "execute_result"
    }
   ],
   "source": [
    "# Extracting the text from the txt file\n",
    "Extract_str='/content/drive/MyDrive/text_data.txt'\n",
    "Extract_str\n",
    "#print(Extract_str)"
   ]
  },
  {
   "cell_type": "code",
   "execution_count": null,
   "metadata": {
    "colab": {
     "base_uri": "https://localhost:8080/"
    },
    "executionInfo": {
     "elapsed": 430,
     "status": "ok",
     "timestamp": 1710910573120,
     "user": {
      "displayName": "professor",
      "userId": "02563211122263964727"
     },
     "user_tz": -330
    },
    "id": "myQG2lDdNje6",
    "outputId": "08e31a81-a412-4250-aac0-2ba5d32c9ec3"
   },
   "outputs": [
    {
     "name": "stdout",
     "output_type": "stream",
     "text": [
      "/content/drive/MyDrive/text_data.txt\n"
     ]
    }
   ],
   "source": [
    "# Deriving the raw string(wihtout the quotes)\n",
    "raw_str=r'/content/drive/MyDrive/text_data.txt'\n",
    "print(raw_str)"
   ]
  },
  {
   "cell_type": "code",
   "execution_count": null,
   "metadata": {
    "colab": {
     "base_uri": "https://localhost:8080/",
     "height": 35
    },
    "executionInfo": {
     "elapsed": 424,
     "status": "ok",
     "timestamp": 1710910732314,
     "user": {
      "displayName": "professor",
      "userId": "02563211122263964727"
     },
     "user_tz": -330
    },
    "id": "-QyhGL1-OMkr",
    "outputId": "d6f08646-09ec-404e-e273-6eefde19f5f1"
   },
   "outputs": [
    {
     "data": {
      "application/vnd.google.colaboratory.intrinsic+json": {
       "type": "string"
      },
      "text/plain": [
       "'Hello!!and Welcome to Text analytics!!'"
      ]
     },
     "execution_count": 16,
     "metadata": {},
     "output_type": "execute_result"
    }
   ],
   "source": [
    "# Basic Opeartions on strings\n",
    "str1='Hello!!'+'and Welcome to '+'Text analytics!!'\n",
    "str1"
   ]
  },
  {
   "cell_type": "code",
   "execution_count": null,
   "metadata": {
    "colab": {
     "base_uri": "https://localhost:8080/",
     "height": 35
    },
    "executionInfo": {
     "elapsed": 444,
     "status": "ok",
     "timestamp": 1710910781989,
     "user": {
      "displayName": "professor",
      "userId": "02563211122263964727"
     },
     "user_tz": -330
    },
    "id": "jCBOVLISOlqz",
    "outputId": "fa535619-4ffa-4eec-890b-f5064c36163c"
   },
   "outputs": [
    {
     "data": {
      "application/vnd.google.colaboratory.intrinsic+json": {
       "type": "string"
      },
      "text/plain": [
       "'Hello!!and Welcome to Text analytics!!'"
      ]
     },
     "execution_count": 18,
     "metadata": {},
     "output_type": "execute_result"
    }
   ],
   "source": [
    "str2='Hello!!''and Welcome to ''Text analytics!!'\n",
    "str2"
   ]
  },
  {
   "cell_type": "code",
   "execution_count": null,
   "metadata": {
    "colab": {
     "base_uri": "https://localhost:8080/"
    },
    "executionInfo": {
     "elapsed": 426,
     "status": "ok",
     "timestamp": 1710910846394,
     "user": {
      "displayName": "professor",
      "userId": "02563211122263964727"
     },
     "user_tz": -330
    },
    "id": "qkSwBDUdOxiI",
    "outputId": "3c3d240c-fb3a-46c6-b0dc-dd4b570252cd"
   },
   "outputs": [
    {
     "name": "stdout",
     "output_type": "stream",
     "text": [
      "Hello!!and Welcome to Text analytics!!\n",
      "Hello!!and Welcome to Text analytics!!\n"
     ]
    }
   ],
   "source": [
    "# Getting multiline text\n",
    "print(str1+'\\n'+str2)"
   ]
  },
  {
   "cell_type": "code",
   "execution_count": null,
   "metadata": {
    "colab": {
     "base_uri": "https://localhost:8080/"
    },
    "executionInfo": {
     "elapsed": 422,
     "status": "ok",
     "timestamp": 1710910899598,
     "user": {
      "displayName": "professor",
      "userId": "02563211122263964727"
     },
     "user_tz": -330
    },
    "id": "8b0AbSInPB0M",
    "outputId": "181d4e1e-07cd-4e91-e66c-a2dad8a46152"
   },
   "outputs": [
    {
     "name": "stdout",
     "output_type": "stream",
     "text": [
      "Hello!!and Welcome to Text analytics!!Hello!!and Welcome to Text analytics!!\n"
     ]
    }
   ],
   "source": [
    "print(str1*2)"
   ]
  },
  {
   "cell_type": "code",
   "execution_count": null,
   "metadata": {
    "colab": {
     "base_uri": "https://localhost:8080/"
    },
    "executionInfo": {
     "elapsed": 420,
     "status": "ok",
     "timestamp": 1710911108549,
     "user": {
      "displayName": "professor",
      "userId": "02563211122263964727"
     },
     "user_tz": -330
    },
    "id": "3JJuh6vHPNPt",
    "outputId": "1fd7e316-5da9-412f-b698-abb4de172aa5"
   },
   "outputs": [
    {
     "name": "stdout",
     "output_type": "stream",
     "text": [
      "This is the Text Analytics session.\n",
      "Please feel free to ask the doubts\n"
     ]
    }
   ],
   "source": [
    "# Concatenating the multiple strings\n",
    "multiple_str=('This ''is ''the ''Text Analytics session.''\\n''Please feel free to ask the doubts')\n",
    "print(multiple_str)"
   ]
  },
  {
   "cell_type": "code",
   "execution_count": null,
   "metadata": {
    "colab": {
     "base_uri": "https://localhost:8080/"
    },
    "executionInfo": {
     "elapsed": 425,
     "status": "ok",
     "timestamp": 1710911175236,
     "user": {
      "displayName": "professor",
      "userId": "02563211122263964727"
     },
     "user_tz": -330
    },
    "id": "q0DMD5meQBgs",
    "outputId": "c39a09e0-be80-4b93-fd95-5a5a6662ca32"
   },
   "outputs": [
    {
     "name": "stdout",
     "output_type": "stream",
     "text": [
      "70\n"
     ]
    }
   ],
   "source": [
    "# To find the length of the string\n",
    "print(len(multiple_str))"
   ]
  },
  {
   "cell_type": "code",
   "execution_count": null,
   "metadata": {
    "colab": {
     "base_uri": "https://localhost:8080/"
    },
    "executionInfo": {
     "elapsed": 504,
     "status": "ok",
     "timestamp": 1710911246995,
     "user": {
      "displayName": "professor",
      "userId": "02563211122263964727"
     },
     "user_tz": -330
    },
    "id": "8kAmH7H4QRkk",
    "outputId": "90e02e8f-8691-417d-a84f-a1941c8d9a47"
   },
   "outputs": [
    {
     "data": {
      "text/plain": [
       "True"
      ]
     },
     "execution_count": 29,
     "metadata": {},
     "output_type": "execute_result"
    }
   ],
   "source": [
    "# The check for the substring in a string, which returns true or false\n",
    "'This' in multiple_str"
   ]
  },
  {
   "cell_type": "code",
   "execution_count": null,
   "metadata": {
    "colab": {
     "base_uri": "https://localhost:8080/"
    },
    "executionInfo": {
     "elapsed": 457,
     "status": "ok",
     "timestamp": 1710911289249,
     "user": {
      "displayName": "professor",
      "userId": "02563211122263964727"
     },
     "user_tz": -330
    },
    "id": "Yj6kiNkTQkyb",
    "outputId": "6961773c-11a9-4298-ea98-9a20d48f8a51"
   },
   "outputs": [
    {
     "data": {
      "text/plain": [
       "False"
      ]
     },
     "execution_count": 30,
     "metadata": {},
     "output_type": "execute_result"
    }
   ],
   "source": [
    "'Web' in multiple_str"
   ]
  },
  {
   "cell_type": "code",
   "execution_count": null,
   "metadata": {
    "colab": {
     "base_uri": "https://localhost:8080/"
    },
    "executionInfo": {
     "elapsed": 3,
     "status": "ok",
     "timestamp": 1710911493021,
     "user": {
      "displayName": "professor",
      "userId": "02563211122263964727"
     },
     "user_tz": -330
    },
    "id": "UZrLYSQsQxXE",
    "outputId": "23e47a8d-7d53-40f7-d37a-5da827878908"
   },
   "outputs": [
    {
     "name": "stdout",
     "output_type": "stream",
     "text": [
      "P 0\n",
      "y 1\n",
      "t 2\n",
      "h 3\n",
      "o 4\n",
      "n 5\n"
     ]
    }
   ],
   "source": [
    "# To create a string for indexing and slicing\n",
    "str2='Python'\n",
    "for index, character in enumerate(str2):\n",
    "  print(character,index)"
   ]
  },
  {
   "cell_type": "code",
   "execution_count": null,
   "metadata": {
    "colab": {
     "base_uri": "https://localhost:8080/"
    },
    "executionInfo": {
     "elapsed": 776,
     "status": "ok",
     "timestamp": 1710911578988,
     "user": {
      "displayName": "professor",
      "userId": "02563211122263964727"
     },
     "user_tz": -330
    },
    "id": "TqwriEzMRiyF",
    "outputId": "4f3e839f-8678-4b31-fa76-78a9e7a90320"
   },
   "outputs": [
    {
     "data": {
      "text/plain": [
       "('P', 'y', 't', 'h', 'o', 'n')"
      ]
     },
     "execution_count": 34,
     "metadata": {},
     "output_type": "execute_result"
    }
   ],
   "source": [
    "# Print the characters in the orginal order\n",
    "str2[0],str2[1],str2[2],str2[3],str2[4],str2[5]"
   ]
  },
  {
   "cell_type": "code",
   "execution_count": null,
   "metadata": {
    "colab": {
     "base_uri": "https://localhost:8080/"
    },
    "executionInfo": {
     "elapsed": 408,
     "status": "ok",
     "timestamp": 1710911676500,
     "user": {
      "displayName": "professor",
      "userId": "02563211122263964727"
     },
     "user_tz": -330
    },
    "id": "WSeDHJhuRzDI",
    "outputId": "d20590e2-5319-4ef1-d0c7-c604413464d5"
   },
   "outputs": [
    {
     "data": {
      "text/plain": [
       "('n', 'o', 'h', 't', 'y', 'P')"
      ]
     },
     "execution_count": 35,
     "metadata": {},
     "output_type": "execute_result"
    }
   ],
   "source": [
    "# Print the characters in the reverse order\n",
    "str2[-1],str2[-2],str2[-3],str2[-4],str2[-5],str2[-6]"
   ]
  },
  {
   "cell_type": "code",
   "execution_count": null,
   "metadata": {
    "colab": {
     "base_uri": "https://localhost:8080/",
     "height": 35
    },
    "executionInfo": {
     "elapsed": 468,
     "status": "ok",
     "timestamp": 1710911816973,
     "user": {
      "displayName": "professor",
      "userId": "02563211122263964727"
     },
     "user_tz": -330
    },
    "id": "mP5vrQkTSOcc",
    "outputId": "e6c79e3d-11eb-46b7-b4a8-12e1d67e6044"
   },
   "outputs": [
    {
     "data": {
      "application/vnd.google.colaboratory.intrinsic+json": {
       "type": "string"
      },
      "text/plain": [
       "'Python'"
      ]
     },
     "execution_count": 39,
     "metadata": {},
     "output_type": "execute_result"
    }
   ],
   "source": [
    "# String Slicing\n",
    "str2[:]"
   ]
  },
  {
   "cell_type": "code",
   "execution_count": null,
   "metadata": {
    "colab": {
     "base_uri": "https://localhost:8080/",
     "height": 35
    },
    "executionInfo": {
     "elapsed": 5,
     "status": "ok",
     "timestamp": 1710911819499,
     "user": {
      "displayName": "professor",
      "userId": "02563211122263964727"
     },
     "user_tz": -330
    },
    "id": "e_hvP341SbPR",
    "outputId": "03ec79d5-cff5-412e-cf42-34831a62b0f9"
   },
   "outputs": [
    {
     "data": {
      "application/vnd.google.colaboratory.intrinsic+json": {
       "type": "string"
      },
      "text/plain": [
       "'ytho'"
      ]
     },
     "execution_count": 40,
     "metadata": {},
     "output_type": "execute_result"
    }
   ],
   "source": [
    "str2[1:5]"
   ]
  },
  {
   "cell_type": "code",
   "execution_count": null,
   "metadata": {
    "colab": {
     "base_uri": "https://localhost:8080/",
     "height": 35
    },
    "executionInfo": {
     "elapsed": 431,
     "status": "ok",
     "timestamp": 1710911838857,
     "user": {
      "displayName": "professor",
      "userId": "02563211122263964727"
     },
     "user_tz": -330
    },
    "id": "weOOrX6NSqjE",
    "outputId": "cbbba8a1-8510-4976-ed7c-cb6f3aa80890"
   },
   "outputs": [
    {
     "data": {
      "application/vnd.google.colaboratory.intrinsic+json": {
       "type": "string"
      },
      "text/plain": [
       "'Pyt'"
      ]
     },
     "execution_count": 41,
     "metadata": {},
     "output_type": "execute_result"
    }
   ],
   "source": [
    "# To print characters upto 2 < 3\n",
    "str2[:3]"
   ]
  },
  {
   "cell_type": "code",
   "execution_count": null,
   "metadata": {
    "colab": {
     "base_uri": "https://localhost:8080/",
     "height": 35
    },
    "executionInfo": {
     "elapsed": 447,
     "status": "ok",
     "timestamp": 1710911901442,
     "user": {
      "displayName": "professor",
      "userId": "02563211122263964727"
     },
     "user_tz": -330
    },
    "id": "mi58xRQ0S4Cg",
    "outputId": "8b185853-78b3-4f73-9844-71b588473030"
   },
   "outputs": [
    {
     "data": {
      "application/vnd.google.colaboratory.intrinsic+json": {
       "type": "string"
      },
      "text/plain": [
       "'hon'"
      ]
     },
     "execution_count": 42,
     "metadata": {},
     "output_type": "execute_result"
    }
   ],
   "source": [
    "# To print characters beyond 3\n",
    "str2[3:]\n"
   ]
  },
  {
   "cell_type": "code",
   "execution_count": null,
   "metadata": {
    "colab": {
     "base_uri": "https://localhost:8080/"
    },
    "executionInfo": {
     "elapsed": 5,
     "status": "ok",
     "timestamp": 1711172096085,
     "user": {
      "displayName": "professor",
      "userId": "02563211122263964727"
     },
     "user_tz": -330
    },
    "id": "qJOCsxMZzXP9",
    "outputId": "02788984-5657-4ed3-b006-553f583e8d51"
   },
   "outputs": [
    {
     "name": "stdout",
     "output_type": "stream",
     "text": [
      "ID: 138582196456384\n",
      "Type: <class 'str'>\n",
      "Value: This is a String\n"
     ]
    }
   ],
   "source": [
    "# Getting details of the string / text\n",
    "new_string = \"This is a String\" # storing a string\n",
    "print('ID:', id(new_string)) # shows the object identifier (address)\n",
    "print('Type:', type(new_string)) # shows the object type\n",
    "print('Value:', new_string) # shows the object value"
   ]
  },
  {
   "cell_type": "code",
   "execution_count": null,
   "metadata": {
    "colab": {
     "base_uri": "https://localhost:8080/"
    },
    "executionInfo": {
     "elapsed": 416,
     "status": "ok",
     "timestamp": 1711172877386,
     "user": {
      "displayName": "professor",
      "userId": "02563211122263964727"
     },
     "user_tz": -330
    },
    "id": "KP8t_4WDdg4z",
    "outputId": "080970f7-adc0-4440-cd00-7cd6d4dc70a5"
   },
   "outputs": [
    {
     "name": "stdout",
     "output_type": "stream",
     "text": [
      "\n"
     ]
    }
   ],
   "source": [
    "# String Methods\n",
    "# creates a new string\n",
    "s=''\n",
    "print(s)"
   ]
  },
  {
   "cell_type": "code",
   "execution_count": null,
   "metadata": {
    "colab": {
     "base_uri": "https://localhost:8080/"
    },
    "executionInfo": {
     "elapsed": 408,
     "status": "ok",
     "timestamp": 1711172882379,
     "user": {
      "displayName": "professor",
      "userId": "02563211122263964727"
     },
     "user_tz": -330
    },
    "id": "xupOEYVA14N5",
    "outputId": "b81cf9d1-274f-418e-eec3-1ade36ef2900"
   },
   "outputs": [
    {
     "name": "stdout",
     "output_type": "stream",
     "text": [
      "orginal string id 138582598533168\n"
     ]
    }
   ],
   "source": [
    "print('orginal string id',id(s))\n",
    "# add a character to the string\n",
    "s='B'+s[1:]"
   ]
  },
  {
   "cell_type": "code",
   "execution_count": null,
   "metadata": {
    "colab": {
     "base_uri": "https://localhost:8080/"
    },
    "executionInfo": {
     "elapsed": 419,
     "status": "ok",
     "timestamp": 1711172888786,
     "user": {
      "displayName": "professor",
      "userId": "02563211122263964727"
     },
     "user_tz": -330
    },
    "id": "hIvqJUKf2Zy2",
    "outputId": "651339c4-f787-4316-b78c-3d7ec5f1829c"
   },
   "outputs": [
    {
     "name": "stdout",
     "output_type": "stream",
     "text": [
      "B\n"
     ]
    }
   ],
   "source": [
    "print(s)"
   ]
  },
  {
   "cell_type": "code",
   "execution_count": null,
   "metadata": {
    "id": "aRqsvGaC2QfY"
   },
   "outputs": [],
   "source": [
    "s='BIRLA'+s[1:]"
   ]
  },
  {
   "cell_type": "code",
   "execution_count": null,
   "metadata": {
    "colab": {
     "base_uri": "https://localhost:8080/"
    },
    "executionInfo": {
     "elapsed": 4,
     "status": "ok",
     "timestamp": 1711172923697,
     "user": {
      "displayName": "professor",
      "userId": "02563211122263964727"
     },
     "user_tz": -330
    },
    "id": "9SnMIFj02HyY",
    "outputId": "eedf5f86-91b9-41b8-cc82-eabdd5e1012b"
   },
   "outputs": [
    {
     "name": "stdout",
     "output_type": "stream",
     "text": [
      "BIRLA\n"
     ]
    }
   ],
   "source": [
    "print(s)"
   ]
  },
  {
   "cell_type": "code",
   "execution_count": null,
   "metadata": {
    "colab": {
     "base_uri": "https://localhost:8080/"
    },
    "executionInfo": {
     "elapsed": 408,
     "status": "ok",
     "timestamp": 1711172959251,
     "user": {
      "displayName": "professor",
      "userId": "02563211122263964727"
     },
     "user_tz": -330
    },
    "id": "VKCo6VP02tJc",
    "outputId": "65140d5f-3f68-4e1f-9f39-4a83a3a719e0"
   },
   "outputs": [
    {
     "name": "stdout",
     "output_type": "stream",
     "text": [
      "new string id 138581309105520\n"
     ]
    }
   ],
   "source": [
    "print('new string id',id(s))"
   ]
  },
  {
   "cell_type": "code",
   "execution_count": null,
   "metadata": {
    "id": "ae92Xtsq3ATg"
   },
   "outputs": [],
   "source": [
    "# String Methods\n",
    "str='NLP is great!!'"
   ]
  },
  {
   "cell_type": "code",
   "execution_count": null,
   "metadata": {
    "colab": {
     "base_uri": "https://localhost:8080/",
     "height": 35
    },
    "executionInfo": {
     "elapsed": 6,
     "status": "ok",
     "timestamp": 1711173074131,
     "user": {
      "displayName": "professor",
      "userId": "02563211122263964727"
     },
     "user_tz": -330
    },
    "id": "anxWkuF83Ho7",
    "outputId": "820cebc8-e3dd-4ed8-acae-1db530fb466d"
   },
   "outputs": [
    {
     "data": {
      "application/vnd.google.colaboratory.intrinsic+json": {
       "type": "string"
      },
      "text/plain": [
       "'Nlp is great!!'"
      ]
     },
     "execution_count": 22,
     "metadata": {},
     "output_type": "execute_result"
    }
   ],
   "source": [
    "# case conversion\n",
    "# 1 Capitalise - First Character of the begining word will be capitalized\n",
    "str.capitalize()"
   ]
  },
  {
   "cell_type": "code",
   "execution_count": null,
   "metadata": {
    "colab": {
     "base_uri": "https://localhost:8080/",
     "height": 35
    },
    "executionInfo": {
     "elapsed": 4,
     "status": "ok",
     "timestamp": 1711173164025,
     "user": {
      "displayName": "professor",
      "userId": "02563211122263964727"
     },
     "user_tz": -330
    },
    "id": "W6YRy6OM3cXe",
    "outputId": "4f54bffb-a7d3-4642-a486-8b407d5df610"
   },
   "outputs": [
    {
     "data": {
      "application/vnd.google.colaboratory.intrinsic+json": {
       "type": "string"
      },
      "text/plain": [
       "'NLP IS GREAT!!'"
      ]
     },
     "execution_count": 23,
     "metadata": {},
     "output_type": "execute_result"
    }
   ],
   "source": [
    "# 2 Upper case - all the characters will be in upper case\n",
    "str.upper()\n"
   ]
  },
  {
   "cell_type": "code",
   "execution_count": null,
   "metadata": {
    "colab": {
     "base_uri": "https://localhost:8080/",
     "height": 35
    },
    "executionInfo": {
     "elapsed": 409,
     "status": "ok",
     "timestamp": 1711173316737,
     "user": {
      "displayName": "professor",
      "userId": "02563211122263964727"
     },
     "user_tz": -330
    },
    "id": "JAHwwerb4Fun",
    "outputId": "a647d308-2af8-4e7e-bef8-a437ebf292a9"
   },
   "outputs": [
    {
     "data": {
      "application/vnd.google.colaboratory.intrinsic+json": {
       "type": "string"
      },
      "text/plain": [
       "'nlp is great!!'"
      ]
     },
     "execution_count": 25,
     "metadata": {},
     "output_type": "execute_result"
    }
   ],
   "source": [
    "# 2 a Lower case - all the letters are in lower case\n",
    "str.lower()"
   ]
  },
  {
   "cell_type": "code",
   "execution_count": null,
   "metadata": {
    "colab": {
     "base_uri": "https://localhost:8080/",
     "height": 35
    },
    "executionInfo": {
     "elapsed": 437,
     "status": "ok",
     "timestamp": 1711173265142,
     "user": {
      "displayName": "professor",
      "userId": "02563211122263964727"
     },
     "user_tz": -330
    },
    "id": "GsXvNn2z3qsz",
    "outputId": "be62acb3-45de-4d2a-b3de-7f917b2d24e9"
   },
   "outputs": [
    {
     "data": {
      "application/vnd.google.colaboratory.intrinsic+json": {
       "type": "string"
      },
      "text/plain": [
       "'Nlp Is Great!!'"
      ]
     },
     "execution_count": 24,
     "metadata": {},
     "output_type": "execute_result"
    }
   ],
   "source": [
    "# 3 Sentence in title case - first charcter of every word is in upper case\n",
    "str.title()"
   ]
  },
  {
   "cell_type": "code",
   "execution_count": null,
   "metadata": {
    "colab": {
     "base_uri": "https://localhost:8080/",
     "height": 35
    },
    "executionInfo": {
     "elapsed": 823,
     "status": "ok",
     "timestamp": 1711173400165,
     "user": {
      "displayName": "professor",
      "userId": "02563211122263964727"
     },
     "user_tz": -330
    },
    "id": "ElV2nmOd4SZC",
    "outputId": "d2dec0fd-61c7-4534-95ed-e04d50602a18"
   },
   "outputs": [
    {
     "data": {
      "application/vnd.google.colaboratory.intrinsic+json": {
       "type": "string"
      },
      "text/plain": [
       "'Python is great!!'"
      ]
     },
     "execution_count": 26,
     "metadata": {},
     "output_type": "execute_result"
    }
   ],
   "source": [
    "# String replacment in the text\n",
    "str.replace('NLP','Python')"
   ]
  },
  {
   "cell_type": "code",
   "execution_count": null,
   "metadata": {
    "colab": {
     "base_uri": "https://localhost:8080/"
    },
    "executionInfo": {
     "elapsed": 430,
     "status": "ok",
     "timestamp": 1711173522680,
     "user": {
      "displayName": "professor",
      "userId": "02563211122263964727"
     },
     "user_tz": -330
    },
    "id": "bqR6JJCm4iv9",
    "outputId": "6d9afed5-279b-43ff-c215-29508320a256"
   },
   "outputs": [
    {
     "data": {
      "text/plain": [
       "False"
      ]
     },
     "execution_count": 27,
     "metadata": {},
     "output_type": "execute_result"
    }
   ],
   "source": [
    "# Checks on the strings/word- numeric, alpha, alphanumeric\n",
    "str.isnumeric()"
   ]
  },
  {
   "cell_type": "code",
   "execution_count": null,
   "metadata": {
    "colab": {
     "base_uri": "https://localhost:8080/"
    },
    "executionInfo": {
     "elapsed": 412,
     "status": "ok",
     "timestamp": 1711173566766,
     "user": {
      "displayName": "professor",
      "userId": "02563211122263964727"
     },
     "user_tz": -330
    },
    "id": "n20goX6P4_rp",
    "outputId": "430e05d8-18fe-4396-de3d-86ee31c0d34e"
   },
   "outputs": [
    {
     "data": {
      "text/plain": [
       "False"
      ]
     },
     "execution_count": 30,
     "metadata": {},
     "output_type": "execute_result"
    }
   ],
   "source": [
    "str.isalpha()"
   ]
  },
  {
   "cell_type": "code",
   "execution_count": null,
   "metadata": {
    "colab": {
     "base_uri": "https://localhost:8080/"
    },
    "executionInfo": {
     "elapsed": 436,
     "status": "ok",
     "timestamp": 1711173627371,
     "user": {
      "displayName": "professor",
      "userId": "02563211122263964727"
     },
     "user_tz": -330
    },
    "id": "VwJzuSes5LP7",
    "outputId": "0d181113-55f1-4029-c3e0-8f254bd8e34e"
   },
   "outputs": [
    {
     "data": {
      "text/plain": [
       "False"
      ]
     },
     "execution_count": 31,
     "metadata": {},
     "output_type": "execute_result"
    }
   ],
   "source": [
    "str.isalnum()"
   ]
  },
  {
   "cell_type": "code",
   "execution_count": null,
   "metadata": {
    "colab": {
     "base_uri": "https://localhost:8080/"
    },
    "executionInfo": {
     "elapsed": 411,
     "status": "ok",
     "timestamp": 1711173682360,
     "user": {
      "displayName": "professor",
      "userId": "02563211122263964727"
     },
     "user_tz": -330
    },
    "id": "QNxOwbma4-ry",
    "outputId": "c99dd4aa-33df-4bfd-dea3-9de121e1efa5"
   },
   "outputs": [
    {
     "data": {
      "text/plain": [
       "True"
      ]
     },
     "execution_count": 32,
     "metadata": {},
     "output_type": "execute_result"
    }
   ],
   "source": [
    "str1='12345'\n",
    "str1.isnumeric()"
   ]
  },
  {
   "cell_type": "code",
   "execution_count": null,
   "metadata": {
    "colab": {
     "base_uri": "https://localhost:8080/"
    },
    "executionInfo": {
     "elapsed": 406,
     "status": "ok",
     "timestamp": 1711173760511,
     "user": {
      "displayName": "professor",
      "userId": "02563211122263964727"
     },
     "user_tz": -330
    },
    "id": "j-VfJfVK5mGF",
    "outputId": "a8cb9e4e-08ab-471f-c673-3e38e444e63b"
   },
   "outputs": [
    {
     "data": {
      "text/plain": [
       "True"
      ]
     },
     "execution_count": 35,
     "metadata": {},
     "output_type": "execute_result"
    }
   ],
   "source": [
    "str2='emp101'\n",
    "str2.isalnum()"
   ]
  },
  {
   "cell_type": "code",
   "execution_count": null,
   "metadata": {
    "colab": {
     "base_uri": "https://localhost:8080/"
    },
    "executionInfo": {
     "elapsed": 415,
     "status": "ok",
     "timestamp": 1711173878419,
     "user": {
      "displayName": "professor",
      "userId": "02563211122263964727"
     },
     "user_tz": -330
    },
    "id": "tFVsCF4I5-A6",
    "outputId": "28557dac-4a98-4b1a-b7ec-32b7da96b0a0"
   },
   "outputs": [
    {
     "data": {
      "text/plain": [
       "False"
      ]
     },
     "execution_count": 39,
     "metadata": {},
     "output_type": "execute_result"
    }
   ],
   "source": [
    "str3='15+20'\n",
    "str3.isnumeric()"
   ]
  },
  {
   "cell_type": "code",
   "execution_count": null,
   "metadata": {
    "colab": {
     "base_uri": "https://localhost:8080/"
    },
    "executionInfo": {
     "elapsed": 408,
     "status": "ok",
     "timestamp": 1711173884927,
     "user": {
      "displayName": "professor",
      "userId": "02563211122263964727"
     },
     "user_tz": -330
    },
    "id": "kA0rihP56UpR",
    "outputId": "fe6f6441-d8ec-41f3-e5b4-35ab7666e97a"
   },
   "outputs": [
    {
     "data": {
      "text/plain": [
       "False"
      ]
     },
     "execution_count": 40,
     "metadata": {},
     "output_type": "execute_result"
    }
   ],
   "source": [
    "str3.isalpha()"
   ]
  },
  {
   "cell_type": "code",
   "execution_count": null,
   "metadata": {
    "colab": {
     "base_uri": "https://localhost:8080/"
    },
    "executionInfo": {
     "elapsed": 411,
     "status": "ok",
     "timestamp": 1711173897202,
     "user": {
      "displayName": "professor",
      "userId": "02563211122263964727"
     },
     "user_tz": -330
    },
    "id": "qyEdqkkZ6WjR",
    "outputId": "a5ee7299-db39-4010-c7d8-a549346eeb5a"
   },
   "outputs": [
    {
     "data": {
      "text/plain": [
       "False"
      ]
     },
     "execution_count": 41,
     "metadata": {},
     "output_type": "execute_result"
    }
   ],
   "source": [
    "str3.isalnum()"
   ]
  },
  {
   "cell_type": "code",
   "execution_count": null,
   "metadata": {
    "id": "qMQHwI4-6lDd"
   },
   "outputs": [],
   "source": [
    "# to split, join, and strip the given strings\n",
    "str4='I, love, indian, food'"
   ]
  },
  {
   "cell_type": "code",
   "execution_count": null,
   "metadata": {
    "colab": {
     "base_uri": "https://localhost:8080/"
    },
    "executionInfo": {
     "elapsed": 401,
     "status": "ok",
     "timestamp": 1711174037702,
     "user": {
      "displayName": "professor",
      "userId": "02563211122263964727"
     },
     "user_tz": -330
    },
    "id": "5DYUY23e6ztV",
    "outputId": "d4666515-583d-433c-b749-65eeb204b56a"
   },
   "outputs": [
    {
     "data": {
      "text/plain": [
       "['I,', 'love,', 'indian,', 'food']"
      ]
     },
     "execution_count": 43,
     "metadata": {},
     "output_type": "execute_result"
    }
   ],
   "source": [
    "# Split\n",
    "str4.split()"
   ]
  },
  {
   "cell_type": "code",
   "execution_count": null,
   "metadata": {
    "colab": {
     "base_uri": "https://localhost:8080/",
     "height": 35
    },
    "executionInfo": {
     "elapsed": 412,
     "status": "ok",
     "timestamp": 1711174293541,
     "user": {
      "displayName": "professor",
      "userId": "02563211122263964727"
     },
     "user_tz": -330
    },
    "id": "-Lkto4A87D9Q",
    "outputId": "38db9914-f9cf-4827-f8f7-cf92c2f1b228"
   },
   "outputs": [
    {
     "data": {
      "application/vnd.google.colaboratory.intrinsic+json": {
       "type": "string"
      },
      "text/plain": [
       "'I  love  indian  food'"
      ]
     },
     "execution_count": 45,
     "metadata": {},
     "output_type": "execute_result"
    }
   ],
   "source": [
    "# Joining the words by a blank space instead a ','\n",
    "' '.join(str4.split(','))"
   ]
  },
  {
   "cell_type": "code",
   "execution_count": null,
   "metadata": {
    "colab": {
     "base_uri": "https://localhost:8080/",
     "height": 35
    },
    "executionInfo": {
     "elapsed": 433,
     "status": "ok",
     "timestamp": 1711174408189,
     "user": {
      "displayName": "professor",
      "userId": "02563211122263964727"
     },
     "user_tz": -330
    },
    "id": "ebziucJN8CRY",
    "outputId": "aeae1734-45b3-4769-fc46-da95daae2b0b"
   },
   "outputs": [
    {
     "data": {
      "application/vnd.google.colaboratory.intrinsic+json": {
       "type": "string"
      },
      "text/plain": [
       "'  Python is great!!'"
      ]
     },
     "execution_count": 48,
     "metadata": {},
     "output_type": "execute_result"
    }
   ],
   "source": [
    "str5='  Python is great!!'\n",
    "str5"
   ]
  },
  {
   "cell_type": "code",
   "execution_count": null,
   "metadata": {
    "colab": {
     "base_uri": "https://localhost:8080/",
     "height": 35
    },
    "executionInfo": {
     "elapsed": 451,
     "status": "ok",
     "timestamp": 1711174476449,
     "user": {
      "displayName": "professor",
      "userId": "02563211122263964727"
     },
     "user_tz": -330
    },
    "id": "oK_zhFRl8Yo9",
    "outputId": "9344d3ab-d329-41ff-e8ff-5b69496ef301"
   },
   "outputs": [
    {
     "data": {
      "application/vnd.google.colaboratory.intrinsic+json": {
       "type": "string"
      },
      "text/plain": [
       "'Python is great!!'"
      ]
     },
     "execution_count": 49,
     "metadata": {},
     "output_type": "execute_result"
    }
   ],
   "source": [
    "# Removing the blank space using 'strip'\n",
    "str5.strip()\n"
   ]
  },
  {
   "cell_type": "code",
   "execution_count": null,
   "metadata": {
    "id": "GuohyyO28sCu"
   },
   "outputs": [],
   "source": [
    "# Sentences with mmutliple statements\n",
    "sent1='NLP is great. Python is excellent.'"
   ]
  },
  {
   "cell_type": "code",
   "execution_count": null,
   "metadata": {
    "colab": {
     "base_uri": "https://localhost:8080/"
    },
    "executionInfo": {
     "elapsed": 414,
     "status": "ok",
     "timestamp": 1711174642589,
     "user": {
      "displayName": "professor",
      "userId": "02563211122263964727"
     },
     "user_tz": -330
    },
    "id": "pTxLWJ4L9ISI",
    "outputId": "983090c5-2049-44eb-aaad-98309765dced"
   },
   "outputs": [
    {
     "data": {
      "text/plain": [
       "['NLP', 'is', 'great.', 'Python', 'is', 'excellent.']"
      ]
     },
     "execution_count": 51,
     "metadata": {},
     "output_type": "execute_result"
    }
   ],
   "source": [
    "# Split the sentence\n",
    "sent1.split()"
   ]
  },
  {
   "cell_type": "code",
   "execution_count": null,
   "metadata": {
    "colab": {
     "base_uri": "https://localhost:8080/"
    },
    "executionInfo": {
     "elapsed": 419,
     "status": "ok",
     "timestamp": 1711174896832,
     "user": {
      "displayName": "professor",
      "userId": "02563211122263964727"
     },
     "user_tz": -330
    },
    "id": "SQcjQ9hk9ZcZ",
    "outputId": "efcf65d0-1293-4625-cc2c-0ebde39685b5"
   },
   "outputs": [
    {
     "name": "stdout",
     "output_type": "stream",
     "text": [
      "NLP is great\n",
      " Python is excellent\n",
      "\n"
     ]
    }
   ],
   "source": [
    "# Display the sentences separately when they are separated by '.' and join them back\n",
    "# and display them on the two new lines\n",
    "print('\\n'.join(sent1.split('.')))"
   ]
  },
  {
   "cell_type": "code",
   "execution_count": null,
   "metadata": {
    "colab": {
     "base_uri": "https://localhost:8080/",
     "height": 35
    },
    "executionInfo": {
     "elapsed": 428,
     "status": "ok",
     "timestamp": 1711175029352,
     "user": {
      "displayName": "professor",
      "userId": "02563211122263964727"
     },
     "user_tz": -330
    },
    "id": "-8NXt3Fs-qXa",
    "outputId": "1a6bd3b3-500d-4379-9efa-119c7c3dd739"
   },
   "outputs": [
    {
     "data": {
      "application/vnd.google.colaboratory.intrinsic+json": {
       "type": "string"
      },
      "text/plain": [
       "'NLP is great. Python is excellent.'"
      ]
     },
     "execution_count": 56,
     "metadata": {},
     "output_type": "execute_result"
    }
   ],
   "source": [
    "sent1.strip()"
   ]
  },
  {
   "cell_type": "code",
   "execution_count": null,
   "metadata": {
    "colab": {
     "base_uri": "https://localhost:8080/"
    },
    "executionInfo": {
     "elapsed": 403,
     "status": "ok",
     "timestamp": 1711175086022,
     "user": {
      "displayName": "professor",
      "userId": "02563211122263964727"
     },
     "user_tz": -330
    },
    "id": "Dtthr2Dz-zbo",
    "outputId": "a35f6eb9-4320-4949-aca6-55b9e44ae746"
   },
   "outputs": [
    {
     "name": "stdout",
     "output_type": "stream",
     "text": [
      "N\n",
      "L\n",
      "P\n",
      " \n",
      "i\n",
      "s\n",
      " \n",
      "g\n",
      "r\n",
      "e\n",
      "a\n",
      "t\n",
      ".\n",
      " \n",
      "P\n",
      "y\n",
      "t\n",
      "h\n",
      "o\n",
      "n\n",
      " \n",
      "i\n",
      "s\n",
      " \n",
      "e\n",
      "x\n",
      "c\n",
      "e\n",
      "l\n",
      "l\n",
      "e\n",
      "n\n",
      "t\n",
      ".\n"
     ]
    }
   ],
   "source": [
    "# Printing every character on the new line\n",
    "print('\\n'.join(sent1.strip()))"
   ]
  },
  {
   "cell_type": "code",
   "execution_count": null,
   "metadata": {
    "colab": {
     "base_uri": "https://localhost:8080/"
    },
    "executionInfo": {
     "elapsed": 402,
     "status": "ok",
     "timestamp": 1711175637415,
     "user": {
      "displayName": "professor",
      "userId": "02563211122263964727"
     },
     "user_tz": -330
    },
    "id": "RGjHGC-3_GIw",
    "outputId": "e06f82d7-5d0d-4043-ee85-13b6aa9340de"
   },
   "outputs": [
    {
     "name": "stdout",
     "output_type": "stream",
     "text": [
      "NLP is great\n",
      "Python is excellent\n"
     ]
    }
   ],
   "source": [
    "print('\\n'.join([sent1.strip() for sent1 in sent1.split('.') if sent1]))"
   ]
  },
  {
   "cell_type": "code",
   "execution_count": null,
   "metadata": {
    "colab": {
     "base_uri": "https://localhost:8080/",
     "height": 35
    },
    "executionInfo": {
     "elapsed": 396,
     "status": "ok",
     "timestamp": 1711175816278,
     "user": {
      "displayName": "professor",
      "userId": "02563211122263964727"
     },
     "user_tz": -330
    },
    "id": "FSX5DRz1Bpv5",
    "outputId": "d2b88f32-66d6-47d0-8740-84e7fda4caa3"
   },
   "outputs": [
    {
     "data": {
      "application/vnd.google.colaboratory.intrinsic+json": {
       "type": "string"
      },
      "text/plain": [
       "'Hello Python!'"
      ]
     },
     "execution_count": 65,
     "metadata": {},
     "output_type": "execute_result"
    }
   ],
   "source": [
    "'Hello %s' %('Python!')"
   ]
  },
  {
   "cell_type": "code",
   "execution_count": null,
   "metadata": {
    "colab": {
     "base_uri": "https://localhost:8080/",
     "height": 35
    },
    "executionInfo": {
     "elapsed": 400,
     "status": "ok",
     "timestamp": 1711175854154,
     "user": {
      "displayName": "professor",
      "userId": "02563211122263964727"
     },
     "user_tz": -330
    },
    "id": "UNFkFR23BzTW",
    "outputId": "3c2ee3c8-d3cd-4385-b1fe-17db6d8e0ba1"
   },
   "outputs": [
    {
     "data": {
      "application/vnd.google.colaboratory.intrinsic+json": {
       "type": "string"
      },
      "text/plain": [
       "'Hello World! How are you?'"
      ]
     },
     "execution_count": 66,
     "metadata": {},
     "output_type": "execute_result"
    }
   ],
   "source": [
    "'Hello %s %s' %('World!', 'How are you?')"
   ]
  },
  {
   "cell_type": "code",
   "execution_count": null,
   "metadata": {
    "colab": {
     "base_uri": "https://localhost:8080/",
     "height": 35
    },
    "executionInfo": {
     "elapsed": 5,
     "status": "ok",
     "timestamp": 1711175990352,
     "user": {
      "displayName": "professor",
      "userId": "02563211122263964727"
     },
     "user_tz": -330
    },
    "id": "Kzmo5JrECFvi",
    "outputId": "63b55fb3-a683-4c7e-fe89-5de7d431063e"
   },
   "outputs": [
    {
     "data": {
      "application/vnd.google.colaboratory.intrinsic+json": {
       "type": "string"
      },
      "text/plain": [
       "'I want 2 pens'"
      ]
     },
     "execution_count": 68,
     "metadata": {},
     "output_type": "execute_result"
    }
   ],
   "source": [
    "'I want %d %s' %(2,'pens')"
   ]
  },
  {
   "cell_type": "code",
   "execution_count": null,
   "metadata": {
    "colab": {
     "base_uri": "https://localhost:8080/",
     "height": 35
    },
    "executionInfo": {
     "elapsed": 391,
     "status": "ok",
     "timestamp": 1711176203050,
     "user": {
      "displayName": "professor",
      "userId": "02563211122263964727"
     },
     "user_tz": -330
    },
    "id": "5VNvHAoDBLA_",
    "outputId": "1f129d9e-b81b-4c58-e520-a13fc82792ce"
   },
   "outputs": [
    {
     "data": {
      "application/vnd.google.colaboratory.intrinsic+json": {
       "type": "string"
      },
      "text/plain": [
       "'Hello Mr. India, it is a great pleasure meeting you at 5'"
      ]
     },
     "execution_count": 69,
     "metadata": {},
     "output_type": "execute_result"
    }
   ],
   "source": [
    "# Formatting the string with new formatting methods - using string format {}\n",
    "'Hello {} {}, it is a great {} meeting you at {}'.format('Mr.','India','pleasure','5')"
   ]
  },
  {
   "cell_type": "code",
   "execution_count": null,
   "metadata": {
    "colab": {
     "base_uri": "https://localhost:8080/",
     "height": 35
    },
    "executionInfo": {
     "elapsed": 431,
     "status": "ok",
     "timestamp": 1711176311814,
     "user": {
      "displayName": "professor",
      "userId": "02563211122263964727"
     },
     "user_tz": -330
    },
    "id": "Vg3FYwR0DXPV",
    "outputId": "c8175eaa-13ee-4f6b-9f0c-5ebf52839c1b"
   },
   "outputs": [
    {
     "data": {
      "application/vnd.google.colaboratory.intrinsic+json": {
       "type": "string"
      },
      "text/plain": [
       "\"Hello Mr. India, it is a great pleasure meeting you at 5 o'clock\""
      ]
     },
     "execution_count": 72,
     "metadata": {},
     "output_type": "execute_result"
    }
   ],
   "source": [
    "'Hello {} {}, it is a great {} meeting you at {} o\\'clock'.format('Mr.','India','pleasure','5')"
   ]
  },
  {
   "cell_type": "code",
   "execution_count": null,
   "metadata": {
    "colab": {
     "base_uri": "https://localhost:8080/",
     "height": 35
    },
    "executionInfo": {
     "elapsed": 5,
     "status": "ok",
     "timestamp": 1711176513473,
     "user": {
      "displayName": "professor",
      "userId": "02563211122263964727"
     },
     "user_tz": -330
    },
    "id": "Xt2A7v6nDvZG",
    "outputId": "474e3274-059b-434b-de9d-2a5bc12c7a45"
   },
   "outputs": [
    {
     "data": {
      "application/vnd.google.colaboratory.intrinsic+json": {
       "type": "string"
      },
      "text/plain": [
       "'Hello, I want one vada_pav and a coffee'"
      ]
     },
     "execution_count": 73,
     "metadata": {},
     "output_type": "execute_result"
    }
   ],
   "source": [
    "'Hello, I want one {food_item} and a {drink_item}'.format(food_item='vada_pav',drink_item='coffee')"
   ]
  },
  {
   "cell_type": "code",
   "execution_count": null,
   "metadata": {
    "colab": {
     "base_uri": "https://localhost:8080/",
     "height": 35
    },
    "executionInfo": {
     "elapsed": 627,
     "status": "ok",
     "timestamp": 1711176726724,
     "user": {
      "displayName": "professor",
      "userId": "02563211122263964727"
     },
     "user_tz": -330
    },
    "id": "YueOHiSWEj34",
    "outputId": "669961ab-485a-4b7b-fded-55820cda337b"
   },
   "outputs": [
    {
     "data": {
      "application/vnd.google.colaboratory.intrinsic+json": {
       "type": "string"
      },
      "text/plain": [
       "'The brown fox is quick and persistent'"
      ]
     },
     "execution_count": 75,
     "metadata": {},
     "output_type": "execute_result"
    }
   ],
   "source": [
    "'The {color} {animal} is {adj1} and {adj2}'.format(color='brown',animal='fox',adj1='quick',adj2='persistent')"
   ]
  },
  {
   "cell_type": "code",
   "execution_count": null,
   "metadata": {
    "colab": {
     "base_uri": "https://localhost:8080/",
     "height": 35
    },
    "executionInfo": {
     "elapsed": 409,
     "status": "ok",
     "timestamp": 1711176817741,
     "user": {
      "displayName": "professor",
      "userId": "02563211122263964727"
     },
     "user_tz": -330
    },
    "id": "3sQIYoO7FS0U",
    "outputId": "2920f41a-5b7d-4efe-e391-5f81934f5f4a"
   },
   "outputs": [
    {
     "data": {
      "application/vnd.google.colaboratory.intrinsic+json": {
       "type": "string"
      },
      "text/plain": [
       "'The white rabbit is fast but lazy'"
      ]
     },
     "execution_count": 76,
     "metadata": {},
     "output_type": "execute_result"
    }
   ],
   "source": [
    "'The {color} {animal} is {adj1} but {adj2}'.format(color='white',animal='rabbit',adj1='fast',adj2='lazy')"
   ]
  },
  {
   "cell_type": "markdown",
   "metadata": {
    "id": "DifCtKE3GHdY"
   },
   "source": [
    "# Working(creating and using) with regular expressions(regexes) using the module 're'\n",
    "# Regexes have the patterns denoted by thye raw string notations.\n",
    "# Pattens are matched using the string rules defined on the patterns\n",
    "# re module defines the flags which are used to match the particular pattern\n",
    "# re.I, re.S, re.U\n",
    "# Rules used for matching the patterns\n",
    "#. - matching a single character\n",
    "#^ - matching the start of the string\n",
    "#$ - matching the end of the string\n",
    "#* for matching zero\n",
    "# depending upon the requirement we can use variations of ., ^, $,...\n",
    "# | - OR, + , \\d (decimal), \\D(non - decimal) # \\s(white space), \\S(non - white space)\\w\n",
    "# (aplhanumeric),\\W(non- alphanumeric)\n",
    "# re.match(), re.search(), re.findall(),re.finditer(), re.sub(),........"
   ]
  },
  {
   "cell_type": "code",
   "execution_count": null,
   "metadata": {
    "id": "z22QWmmOF9EN"
   },
   "outputs": [],
   "source": [
    "# working with regular expressions\n",
    "s1='Python is excellent Language'\n",
    "s2='I love Python Language. We can use python language for building the applications'"
   ]
  },
  {
   "cell_type": "code",
   "execution_count": null,
   "metadata": {
    "id": "ULnaP0_VI_ea"
   },
   "outputs": [],
   "source": [
    "# Import re\n",
    "import re"
   ]
  },
  {
   "cell_type": "code",
   "execution_count": null,
   "metadata": {
    "id": "yJ73tl_cJl2k"
   },
   "outputs": [],
   "source": [
    "# define the patterns to be matched\n",
    "pattern1='python'\n",
    "pattern2='language'"
   ]
  },
  {
   "cell_type": "code",
   "execution_count": null,
   "metadata": {
    "id": "piODBouyKC6A"
   },
   "outputs": [],
   "source": [
    "# match the patterns in teh sentences\n",
    "re.match(pattern1,s1)"
   ]
  },
  {
   "cell_type": "code",
   "execution_count": null,
   "metadata": {
    "id": "4kJTdEQPNlYZ"
   },
   "outputs": [],
   "source": [
    "re.match(pattern2,s1)"
   ]
  },
  {
   "cell_type": "code",
   "execution_count": null,
   "metadata": {
    "id": "zS9CgHZoKQkA"
   },
   "outputs": [],
   "source": [
    "m1=re.match(pattern1,s1,flags=re.I) # IGNORCASE also wroks on the simialr lines"
   ]
  },
  {
   "cell_type": "code",
   "execution_count": null,
   "metadata": {
    "colab": {
     "base_uri": "https://localhost:8080/",
     "height": 35
    },
    "executionInfo": {
     "elapsed": 423,
     "status": "ok",
     "timestamp": 1711273531521,
     "user": {
      "displayName": "professor",
      "userId": "02563211122263964727"
     },
     "user_tz": -330
    },
    "id": "nU5g-AXTLuRy",
    "outputId": "9a4cab0c-caeb-4c03-9610-66d6870dccad"
   },
   "outputs": [
    {
     "data": {
      "application/vnd.google.colaboratory.intrinsic+json": {
       "type": "string"
      },
      "text/plain": [
       "'Python'"
      ]
     },
     "execution_count": 7,
     "metadata": {},
     "output_type": "execute_result"
    }
   ],
   "source": [
    "m1.group(0)"
   ]
  },
  {
   "cell_type": "code",
   "execution_count": null,
   "metadata": {
    "colab": {
     "base_uri": "https://localhost:8080/"
    },
    "executionInfo": {
     "elapsed": 392,
     "status": "ok",
     "timestamp": 1711273550456,
     "user": {
      "displayName": "professor",
      "userId": "02563211122263964727"
     },
     "user_tz": -330
    },
    "id": "rQEkSg4SL89d",
    "outputId": "1b540600-e911-4950-9644-fc0fb8bb8392"
   },
   "outputs": [
    {
     "data": {
      "text/plain": [
       "0"
      ]
     },
     "execution_count": 8,
     "metadata": {},
     "output_type": "execute_result"
    }
   ],
   "source": [
    "m1.start()"
   ]
  },
  {
   "cell_type": "code",
   "execution_count": null,
   "metadata": {
    "colab": {
     "base_uri": "https://localhost:8080/"
    },
    "executionInfo": {
     "elapsed": 405,
     "status": "ok",
     "timestamp": 1711273555927,
     "user": {
      "displayName": "professor",
      "userId": "02563211122263964727"
     },
     "user_tz": -330
    },
    "id": "f2CB6tzlMBVl",
    "outputId": "5c6485da-0c1f-4502-f70a-422b0bb20985"
   },
   "outputs": [
    {
     "data": {
      "text/plain": [
       "6"
      ]
     },
     "execution_count": 9,
     "metadata": {},
     "output_type": "execute_result"
    }
   ],
   "source": [
    "m1.end()"
   ]
  },
  {
   "cell_type": "code",
   "execution_count": null,
   "metadata": {
    "colab": {
     "base_uri": "https://localhost:8080/"
    },
    "executionInfo": {
     "elapsed": 404,
     "status": "ok",
     "timestamp": 1711273621375,
     "user": {
      "displayName": "professor",
      "userId": "02563211122263964727"
     },
     "user_tz": -330
    },
    "id": "LO8-aj1FK1uN",
    "outputId": "51b3cd0f-4296-4f73-b14e-cef7bef080c5"
   },
   "outputs": [
    {
     "name": "stdout",
     "output_type": "stream",
     "text": [
      "Match is found Python ranging from the index 0 - 6 in the sentence Python is excellent Language\n"
     ]
    }
   ],
   "source": [
    "# Print the matches with their indexes in the orginal sentences\n",
    "print('Match is found {} ranging from the index {} - {} in the sentence {}'.format(m1.group(0),m1.start(),m1.end(),s1))"
   ]
  },
  {
   "cell_type": "code",
   "execution_count": null,
   "metadata": {
    "id": "Z6dCojwHM11G"
   },
   "outputs": [],
   "source": [
    "m2=re.match(pattern2,s2,flags=re.I)"
   ]
  },
  {
   "cell_type": "code",
   "execution_count": null,
   "metadata": {
    "colab": {
     "base_uri": "https://localhost:8080/"
    },
    "executionInfo": {
     "elapsed": 421,
     "status": "ok",
     "timestamp": 1711273693818,
     "user": {
      "displayName": "professor",
      "userId": "02563211122263964727"
     },
     "user_tz": -330
    },
    "id": "XgSEOR-0OQYN",
    "outputId": "821b20ac-2ef9-4669-9b38-764c71697e53"
   },
   "outputs": [
    {
     "name": "stdout",
     "output_type": "stream",
     "text": [
      "None\n"
     ]
    }
   ],
   "source": [
    "print(m2)"
   ]
  },
  {
   "cell_type": "markdown",
   "metadata": {
    "id": "HfJDD4stEyzX"
   },
   "source": [
    "# match does not work when pattern is not there in the beginning of sentence s2"
   ]
  },
  {
   "cell_type": "code",
   "execution_count": null,
   "metadata": {
    "colab": {
     "base_uri": "https://localhost:8080/"
    },
    "executionInfo": {
     "elapsed": 413,
     "status": "ok",
     "timestamp": 1711273744797,
     "user": {
      "displayName": "professor",
      "userId": "02563211122263964727"
     },
     "user_tz": -330
    },
    "id": "yVbZaG8AE3Ra",
    "outputId": "f24f184e-0abb-4cd4-bff1-7de9c556f448"
   },
   "outputs": [
    {
     "data": {
      "text/plain": [
       "<re.Match object; span=(14, 22), match='Language'>"
      ]
     },
     "execution_count": 13,
     "metadata": {},
     "output_type": "execute_result"
    }
   ],
   "source": [
    "# illustrating find and search methods using the re module\n",
    "re.search(pattern2, s2, re.IGNORECASE)"
   ]
  },
  {
   "cell_type": "code",
   "execution_count": null,
   "metadata": {
    "colab": {
     "base_uri": "https://localhost:8080/"
    },
    "executionInfo": {
     "elapsed": 402,
     "status": "ok",
     "timestamp": 1711273873995,
     "user": {
      "displayName": "professor",
      "userId": "02563211122263964727"
     },
     "user_tz": -330
    },
    "id": "bpA1iWZV3uxp",
    "outputId": "7cafa16b-c456-4bf1-ab43-36403f45048f"
   },
   "outputs": [
    {
     "data": {
      "text/plain": [
       "['Python']"
      ]
     },
     "execution_count": 16,
     "metadata": {},
     "output_type": "execute_result"
    }
   ],
   "source": [
    "re.findall(pattern1, s1, re.IGNORECASE)"
   ]
  },
  {
   "cell_type": "code",
   "execution_count": null,
   "metadata": {
    "colab": {
     "base_uri": "https://localhost:8080/"
    },
    "executionInfo": {
     "elapsed": 394,
     "status": "ok",
     "timestamp": 1711273888664,
     "user": {
      "displayName": "professor",
      "userId": "02563211122263964727"
     },
     "user_tz": -330
    },
    "id": "TiS5YGWp3yeQ",
    "outputId": "ea5fa82d-4dde-4509-ee9e-7f4f00a8c088"
   },
   "outputs": [
    {
     "data": {
      "text/plain": [
       "['Language', 'language']"
      ]
     },
     "execution_count": 17,
     "metadata": {},
     "output_type": "execute_result"
    }
   ],
   "source": [
    "re.findall(pattern2, s2, re.IGNORECASE)"
   ]
  },
  {
   "cell_type": "code",
   "execution_count": null,
   "metadata": {
    "colab": {
     "base_uri": "https://localhost:8080/"
    },
    "executionInfo": {
     "elapsed": 400,
     "status": "ok",
     "timestamp": 1711273785939,
     "user": {
      "displayName": "professor",
      "userId": "02563211122263964727"
     },
     "user_tz": -330
    },
    "id": "TCBL0JIoFL1u",
    "outputId": "efcf30e4-8b79-4a4e-b0d4-c08f0575a8b4"
   },
   "outputs": [
    {
     "data": {
      "text/plain": [
       "['Python', 'python']"
      ]
     },
     "execution_count": 14,
     "metadata": {},
     "output_type": "execute_result"
    }
   ],
   "source": [
    "# To find all the occurences of pattern\n",
    "re.findall(pattern1, s2, re.IGNORECASE)"
   ]
  },
  {
   "cell_type": "code",
   "execution_count": null,
   "metadata": {
    "colab": {
     "base_uri": "https://localhost:8080/"
    },
    "executionInfo": {
     "elapsed": 394,
     "status": "ok",
     "timestamp": 1711274239462,
     "user": {
      "displayName": "professor",
      "userId": "02563211122263964727"
     },
     "user_tz": -330
    },
    "id": "ndYP9pOdFGz3",
    "outputId": "7c10ee16-a200-4d92-f027-858e78ca367b"
   },
   "outputs": [
    {
     "data": {
      "text/plain": [
       "['Language', 'language']"
      ]
     },
     "execution_count": 23,
     "metadata": {},
     "output_type": "execute_result"
    }
   ],
   "source": [
    "re.findall(pattern2, s2,re.I)"
   ]
  },
  {
   "cell_type": "code",
   "execution_count": null,
   "metadata": {
    "id": "WPhES1bbFiHj"
   },
   "outputs": [],
   "source": [
    "match_objs = re.finditer(pattern2, s2, re.IGNORECASE)"
   ]
  },
  {
   "cell_type": "code",
   "execution_count": null,
   "metadata": {
    "colab": {
     "base_uri": "https://localhost:8080/"
    },
    "executionInfo": {
     "elapsed": 932,
     "status": "ok",
     "timestamp": 1711243954749,
     "user": {
      "displayName": "professor",
      "userId": "02563211122263964727"
     },
     "user_tz": -330
    },
    "id": "4hEKp5G3Fl4N",
    "outputId": "ea9fab90-214c-481f-e675-323e5754af94"
   },
   "outputs": [
    {
     "data": {
      "text/plain": [
       "<callable_iterator at 0x7ecdc031d480>"
      ]
     },
     "execution_count": 26,
     "metadata": {},
     "output_type": "execute_result"
    }
   ],
   "source": [
    "match_objs"
   ]
  },
  {
   "cell_type": "code",
   "execution_count": null,
   "metadata": {
    "colab": {
     "base_uri": "https://localhost:8080/"
    },
    "executionInfo": {
     "elapsed": 4,
     "status": "ok",
     "timestamp": 1711274017869,
     "user": {
      "displayName": "professor",
      "userId": "02563211122263964727"
     },
     "user_tz": -330
    },
    "id": "MMahGiJj4Q5h",
    "outputId": "43d08983-b8fc-4c2a-ed87-6afaae76866d"
   },
   "outputs": [
    {
     "name": "stdout",
     "output_type": "stream",
     "text": [
      "<callable_iterator object at 0x7b7bcdc40a00>\n"
     ]
    }
   ],
   "source": [
    "print(match_objs)"
   ]
  },
  {
   "cell_type": "code",
   "execution_count": null,
   "metadata": {
    "colab": {
     "base_uri": "https://localhost:8080/"
    },
    "executionInfo": {
     "elapsed": 419,
     "status": "ok",
     "timestamp": 1711274411612,
     "user": {
      "displayName": "professor",
      "userId": "02563211122263964727"
     },
     "user_tz": -330
    },
    "id": "VCVDRXOvFuKw",
    "outputId": "d158e0ab-93cd-455c-f3e8-1246a6ffe27c"
   },
   "outputs": [
    {
     "name": "stdout",
     "output_type": "stream",
     "text": [
      "Sentence : I love Python Language. We can use python language for building the applications\n"
     ]
    }
   ],
   "source": [
    "print(\"Sentence :\", s2)"
   ]
  },
  {
   "cell_type": "code",
   "execution_count": null,
   "metadata": {
    "colab": {
     "base_uri": "https://localhost:8080/"
    },
    "executionInfo": {
     "elapsed": 418,
     "status": "ok",
     "timestamp": 1711274128558,
     "user": {
      "displayName": "professor",
      "userId": "02563211122263964727"
     },
     "user_tz": -330
    },
    "id": "uEgCQBZMF2kn",
    "outputId": "4bb7aff1-67c8-4445-db7f-b40125c4f266"
   },
   "outputs": [
    {
     "name": "stdout",
     "output_type": "stream",
     "text": [
      "Language\n",
      "Found match \"Language\" ranging from index 14 - 22\n",
      "language\n",
      "Found match \"language\" ranging from index 42 - 50\n"
     ]
    }
   ],
   "source": [
    "for m in match_objs:\n",
    "  print(m.group(0))\n",
    "  print('Found match \"{}\" ranging from index {} - {}'.format\n",
    "(m.group(0), m.start(), m.end()))"
   ]
  },
  {
   "cell_type": "markdown",
   "metadata": {
    "id": "gFxmuYDcGDEK"
   },
   "source": [
    "# Regular expressions for text substitution are useful to find and replace specific text tokens in strings."
   ]
  },
  {
   "cell_type": "code",
   "execution_count": null,
   "metadata": {
    "colab": {
     "base_uri": "https://localhost:8080/"
    },
    "executionInfo": {
     "elapsed": 390,
     "status": "ok",
     "timestamp": 1711274472297,
     "user": {
      "displayName": "professor",
      "userId": "02563211122263964727"
     },
     "user_tz": -330
    },
    "id": "sm35Tc8y6CTw",
    "outputId": "38525720-619a-4eb2-8390-1ade9bb16c64"
   },
   "outputs": [
    {
     "name": "stdout",
     "output_type": "stream",
     "text": [
      "Sentence : I love Python Language. We can use python language for building the applications\n"
     ]
    }
   ],
   "source": [
    "print(\"Sentence :\", s2)"
   ]
  },
  {
   "cell_type": "code",
   "execution_count": null,
   "metadata": {
    "colab": {
     "base_uri": "https://localhost:8080/",
     "height": 35
    },
    "executionInfo": {
     "elapsed": 7,
     "status": "ok",
     "timestamp": 1711274545795,
     "user": {
      "displayName": "professor",
      "userId": "02563211122263964727"
     },
     "user_tz": -330
    },
    "id": "UrmyPNNHGOOM",
    "outputId": "3225f177-2da9-4ae4-fb4a-dfd51bae3245"
   },
   "outputs": [
    {
     "data": {
      "application/vnd.google.colaboratory.intrinsic+json": {
       "type": "string"
      },
      "text/plain": [
       "'I love Ruby Language. We can use Ruby language for building the applications'"
      ]
     },
     "execution_count": 26,
     "metadata": {},
     "output_type": "execute_result"
    }
   ],
   "source": [
    "# illustrating pattern substitution using sub and subn methods\n",
    "re.sub(pattern1, 'Ruby', s2, flags=re.IGNORECASE)"
   ]
  },
  {
   "cell_type": "code",
   "execution_count": null,
   "metadata": {
    "colab": {
     "base_uri": "https://localhost:8080/"
    },
    "executionInfo": {
     "elapsed": 411,
     "status": "ok",
     "timestamp": 1711274603185,
     "user": {
      "displayName": "professor",
      "userId": "02563211122263964727"
     },
     "user_tz": -330
    },
    "id": "-0aZs6RrGleX",
    "outputId": "63b44272-54b6-467c-fd73-d854870d10e0"
   },
   "outputs": [
    {
     "data": {
      "text/plain": [
       "('I love Ruby Language. We can use Ruby language for building the applications',\n",
       " 2)"
      ]
     },
     "execution_count": 27,
     "metadata": {},
     "output_type": "execute_result"
    }
   ],
   "source": [
    "# To know how many times the replacement has been done\n",
    "re.subn(pattern1, 'Ruby', s2, flags=re.IGNORECASE)"
   ]
  },
  {
   "cell_type": "code",
   "execution_count": null,
   "metadata": {
    "id": "NCtinzDoG0yQ"
   },
   "outputs": [],
   "source": [
    "# dealing with unicode matching using regexes\n",
    "s = u'H\\u00e8llo! this is Python 123 🐍'"
   ]
  },
  {
   "cell_type": "code",
   "execution_count": null,
   "metadata": {
    "colab": {
     "base_uri": "https://localhost:8080/",
     "height": 35
    },
    "executionInfo": {
     "elapsed": 6,
     "status": "ok",
     "timestamp": 1711274823024,
     "user": {
      "displayName": "professor",
      "userId": "02563211122263964727"
     },
     "user_tz": -330
    },
    "id": "Rme4aJ3SG_C1",
    "outputId": "cb50c88f-96b1-4ba4-9c40-b8ef7cd6828d"
   },
   "outputs": [
    {
     "data": {
      "application/vnd.google.colaboratory.intrinsic+json": {
       "type": "string"
      },
      "text/plain": [
       "'Hèllo! this is Python 123 🐍'"
      ]
     },
     "execution_count": 32,
     "metadata": {},
     "output_type": "execute_result"
    }
   ],
   "source": [
    "s"
   ]
  },
  {
   "cell_type": "code",
   "execution_count": null,
   "metadata": {
    "colab": {
     "base_uri": "https://localhost:8080/"
    },
    "executionInfo": {
     "elapsed": 391,
     "status": "ok",
     "timestamp": 1711274832624,
     "user": {
      "displayName": "professor",
      "userId": "02563211122263964727"
     },
     "user_tz": -330
    },
    "id": "AEStDVaEHOpo",
    "outputId": "97e3d959-7327-4359-c3d8-524d2aa219b6"
   },
   "outputs": [
    {
     "data": {
      "text/plain": [
       "['Hèllo', 'this', 'is', 'Python', '123']"
      ]
     },
     "execution_count": 33,
     "metadata": {},
     "output_type": "execute_result"
    }
   ],
   "source": [
    "re.findall(r'\\w+', s)"
   ]
  },
  {
   "cell_type": "code",
   "execution_count": null,
   "metadata": {
    "colab": {
     "base_uri": "https://localhost:8080/"
    },
    "executionInfo": {
     "elapsed": 388,
     "status": "ok",
     "timestamp": 1711274906823,
     "user": {
      "displayName": "professor",
      "userId": "02563211122263964727"
     },
     "user_tz": -330
    },
    "id": "9bLM_7Dt7qoE",
    "outputId": "78aec4d3-64d9-4365-d1b6-7ff17f489c74"
   },
   "outputs": [
    {
     "data": {
      "text/plain": [
       "['! ', ' ', ' ', ' ', ' 🐍']"
      ]
     },
     "execution_count": 35,
     "metadata": {},
     "output_type": "execute_result"
    }
   ],
   "source": [
    "re.findall(r'\\W+', s)"
   ]
  },
  {
   "cell_type": "code",
   "execution_count": null,
   "metadata": {
    "colab": {
     "base_uri": "https://localhost:8080/"
    },
    "executionInfo": {
     "elapsed": 411,
     "status": "ok",
     "timestamp": 1711274848028,
     "user": {
      "displayName": "professor",
      "userId": "02563211122263964727"
     },
     "user_tz": -330
    },
    "id": "BhP46i5GHWP7",
    "outputId": "0b15d6b4-1c6f-4c22-abb9-f9d310541e7c"
   },
   "outputs": [
    {
     "data": {
      "text/plain": [
       "['Hèllo', 'Python']"
      ]
     },
     "execution_count": 34,
     "metadata": {},
     "output_type": "execute_result"
    }
   ],
   "source": [
    "re.findall(r\"[A-Z]\\w+\", s, re.UNICODE)"
   ]
  },
  {
   "cell_type": "markdown",
   "metadata": {
    "id": "d7lITy36InCv"
   },
   "source": [
    "# There are multiple ways we can print the Emojis in Python. Let’s see how to print Emojis with Unicodes, CLDR names and emoji module.\n",
    "# Using Unicodes:\n",
    "# Every emoji has a Unicode associated with it. Emojis also have a CLDR short name, which can also be used.\n",
    "#From the list of unicodes, replace “+” with “000”. For example – “U+1F600” will become “U0001F600” and prefix the unicode with “\\” and print it."
   ]
  },
  {
   "cell_type": "code",
   "execution_count": null,
   "metadata": {
    "colab": {
     "base_uri": "https://localhost:8080/"
    },
    "executionInfo": {
     "elapsed": 3,
     "status": "ok",
     "timestamp": 1711274998667,
     "user": {
      "displayName": "professor",
      "userId": "02563211122263964727"
     },
     "user_tz": -330
    },
    "id": "1VdO89lJIUm0",
    "outputId": "cc217fca-9452-4524-f813-5fafdbe63659"
   },
   "outputs": [
    {
     "name": "stdout",
     "output_type": "stream",
     "text": [
      "😀\n",
      "😆\n",
      "🤣\n"
     ]
    }
   ],
   "source": [
    "# grinning face\n",
    "print(\"\\U0001f600\")\n",
    "# grinning squinting face\n",
    "print(\"\\U0001F606\")\n",
    "# rolling on the floor laughing\n",
    "print(\"\\U0001F923\")"
   ]
  },
  {
   "cell_type": "markdown",
   "metadata": {
    "id": "A3W0kfP2JCRU"
   },
   "source": [
    "# Using CLDR short name:"
   ]
  },
  {
   "cell_type": "code",
   "execution_count": null,
   "metadata": {
    "colab": {
     "base_uri": "https://localhost:8080/"
    },
    "executionInfo": {
     "elapsed": 406,
     "status": "ok",
     "timestamp": 1711275038087,
     "user": {
      "displayName": "professor",
      "userId": "02563211122263964727"
     },
     "user_tz": -330
    },
    "id": "Th_LrTA-I7JG",
    "outputId": "5f48d93a-0510-4f0a-d0d4-f219081fcc8f"
   },
   "outputs": [
    {
     "name": "stdout",
     "output_type": "stream",
     "text": [
      "😀\n",
      "🙂\n",
      "😉\n"
     ]
    }
   ],
   "source": [
    "# grinning face\n",
    "print(\"\\N{grinning face}\")\n",
    "# slightly smiling face\n",
    "print(\"\\N{slightly smiling face}\")\n",
    "# winking face\n",
    "print(\"\\N{winking face}\")"
   ]
  },
  {
   "cell_type": "code",
   "execution_count": null,
   "metadata": {
    "colab": {
     "base_uri": "https://localhost:8080/"
    },
    "executionInfo": {
     "elapsed": 7084,
     "status": "ok",
     "timestamp": 1711275066101,
     "user": {
      "displayName": "professor",
      "userId": "02563211122263964727"
     },
     "user_tz": -330
    },
    "id": "5b1y0f6lJYBG",
    "outputId": "ce3b9422-f61b-433d-9203-8b9cc6cd0552"
   },
   "outputs": [
    {
     "name": "stdout",
     "output_type": "stream",
     "text": [
      "Collecting emoji\n",
      "  Downloading emoji-2.10.1-py2.py3-none-any.whl (421 kB)\n",
      "\u001b[?25l     \u001b[90m━━━━━━━━━━━━━━━━━━━━━━━━━━━━━━━━━━━━━━━━\u001b[0m \u001b[32m0.0/421.5 kB\u001b[0m \u001b[31m?\u001b[0m eta \u001b[36m-:--:--\u001b[0m\r",
      "\u001b[2K     \u001b[91m━━━━━━━━━━━\u001b[0m\u001b[91m╸\u001b[0m\u001b[90m━━━━━━━━━━━━━━━━━━━━━━━━━━━━\u001b[0m \u001b[32m122.9/421.5 kB\u001b[0m \u001b[31m3.5 MB/s\u001b[0m eta \u001b[36m0:00:01\u001b[0m\r",
      "\u001b[2K     \u001b[90m━━━━━━━━━━━━━━━━━━━━━━━━━━━━━━━━━━━━━━━━\u001b[0m \u001b[32m421.5/421.5 kB\u001b[0m \u001b[31m6.6 MB/s\u001b[0m eta \u001b[36m0:00:00\u001b[0m\n",
      "\u001b[?25hInstalling collected packages: emoji\n",
      "Successfully installed emoji-2.10.1\n"
     ]
    }
   ],
   "source": [
    "!pip install emoji"
   ]
  },
  {
   "cell_type": "code",
   "execution_count": null,
   "metadata": {
    "id": "WW_aFfS7Jh7l"
   },
   "outputs": [],
   "source": [
    "# import emoji module\n",
    "import emoji"
   ]
  },
  {
   "cell_type": "code",
   "execution_count": null,
   "metadata": {
    "colab": {
     "base_uri": "https://localhost:8080/"
    },
    "executionInfo": {
     "elapsed": 416,
     "status": "ok",
     "timestamp": 1711275267991,
     "user": {
      "displayName": "professor",
      "userId": "02563211122263964727"
     },
     "user_tz": -330
    },
    "id": "8qL7tqf5Jm0O",
    "outputId": "4c80e71c-defd-44bb-d512-09d4d3f2e1e6"
   },
   "outputs": [
    {
     "name": "stdout",
     "output_type": "stream",
     "text": [
      "😃\n",
      "😜\n",
      "🤐\n",
      "😃\n",
      "😜\n"
     ]
    }
   ],
   "source": [
    "print(emoji.emojize(\":grinning_face_with_big_eyes:\"))\n",
    "print(emoji.emojize(\":winking_face_with_tongue:\"))\n",
    "print(emoji.emojize(\":zipper-mouth_face:\"))\n",
    "print(emoji.emojize(\":grinning_face_with_big_eyes:\"))\n",
    "print(emoji.emojize(\":winking_face_with_tongue:\"))"
   ]
  },
  {
   "cell_type": "code",
   "execution_count": null,
   "metadata": {
    "colab": {
     "base_uri": "https://localhost:8080/"
    },
    "executionInfo": {
     "elapsed": 4,
     "status": "ok",
     "timestamp": 1711275218691,
     "user": {
      "displayName": "professor",
      "userId": "02563211122263964727"
     },
     "user_tz": -330
    },
    "id": "gL0OGLWH8f9J",
    "outputId": "5014a444-1e2e-495d-f845-7e841c79bab6"
   },
   "outputs": [
    {
     "name": "stdout",
     "output_type": "stream",
     "text": [
      ":grinning_face_with_big_eyes:\n",
      ":winking_face_with_tongue:\n",
      ":zipper-mouth_face:\n"
     ]
    }
   ],
   "source": [
    "print(emoji.demojize(\":grinning_face_with_big_eyes:\"))\n",
    "print(emoji.demojize(\":winking_face_with_tongue:\"))\n",
    "print(emoji.demojize(\":zipper-mouth_face:\"))"
   ]
  }
 ],
 "metadata": {
  "colab": {
   "authorship_tag": "ABX9TyMelfQ8pO96kqu6Ftr+xV77",
   "mount_file_id": "16UZ5Vwcpg5Wp11b4lSMageLoESQxBK3S",
   "provenance": []
  },
  "kernelspec": {
   "display_name": "Python 3 (ipykernel)",
   "language": "python",
   "name": "python3"
  },
  "language_info": {
   "codemirror_mode": {
    "name": "ipython",
    "version": 3
   },
   "file_extension": ".py",
   "mimetype": "text/x-python",
   "name": "python",
   "nbconvert_exporter": "python",
   "pygments_lexer": "ipython3",
   "version": "3.11.5"
  }
 },
 "nbformat": 4,
 "nbformat_minor": 4
}
