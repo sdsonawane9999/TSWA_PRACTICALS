{
 "cells": [
  {
   "cell_type": "code",
   "execution_count": null,
   "metadata": {
    "colab": {
     "base_uri": "https://localhost:8080/"
    },
    "executionInfo": {
     "elapsed": 8533,
     "status": "ok",
     "timestamp": 1709526647596,
     "user": {
      "displayName": "professor",
      "userId": "02563211122263964727"
     },
     "user_tz": -330
    },
    "id": "rp37D7GQweRG",
    "outputId": "ffec3788-ca8b-4d70-e491-bde6526bc154"
   },
   "outputs": [
    {
     "name": "stdout",
     "output_type": "stream",
     "text": [
      "Requirement already satisfied: nltk in /usr/local/lib/python3.10/dist-packages (3.8.1)\n",
      "Requirement already satisfied: click in /usr/local/lib/python3.10/dist-packages (from nltk) (8.1.7)\n",
      "Requirement already satisfied: joblib in /usr/local/lib/python3.10/dist-packages (from nltk) (1.3.2)\n",
      "Requirement already satisfied: regex>=2021.8.3 in /usr/local/lib/python3.10/dist-packages (from nltk) (2023.12.25)\n",
      "Requirement already satisfied: tqdm in /usr/local/lib/python3.10/dist-packages (from nltk) (4.66.2)\n"
     ]
    }
   ],
   "source": [
    "# TSWA_PRACTICAL_1_INTRO_NLP_HANDLING_COPRPORA\n",
    "! pip install nltk"
   ]
  },
  {
   "cell_type": "code",
   "execution_count": null,
   "metadata": {
    "id": "LKJPLbKywzcO"
   },
   "outputs": [],
   "source": [
    "# import nltk\n",
    "import nltk"
   ]
  },
  {
   "cell_type": "code",
   "execution_count": null,
   "metadata": {
    "id": "YXsVp7-R_X2B"
   },
   "outputs": [],
   "source": [
    "# download all\n",
    "nltk.downloat('all')"
   ]
  },
  {
   "cell_type": "markdown",
   "metadata": {
    "id": "Les7jVMO2XzX"
   },
   "source": [
    "## **NLTK includes a diverse set of corpora which can be read using the nltk.corpus package. Each corpus is accessed by means of a “corpus reader” object from nltk.corpus:**"
   ]
  },
  {
   "cell_type": "code",
   "execution_count": null,
   "metadata": {
    "id": "RUpbKe3uw4sE"
   },
   "outputs": [],
   "source": [
    "# Import the corpus reader object from nltk.corpus\n",
    "import nltk.corpus"
   ]
  },
  {
   "cell_type": "code",
   "execution_count": null,
   "metadata": {
    "colab": {
     "base_uri": "https://localhost:8080/"
    },
    "executionInfo": {
     "elapsed": 3,
     "status": "ok",
     "timestamp": 1709554965786,
     "user": {
      "displayName": "professor",
      "userId": "02563211122263964727"
     },
     "user_tz": -330
    },
    "id": "PC5SYA7Gw6eN",
    "outputId": "525a961e-c7ca-4abe-f02c-2d1c3b67db7a"
   },
   "outputs": [
    {
     "name": "stdout",
     "output_type": "stream",
     "text": [
      "<CategorizedTaggedCorpusReader in '.../corpora/brown' (not loaded yet)>\n"
     ]
    }
   ],
   "source": [
    "# The Brown corpus:\n",
    "nltk.corpus.brown\n",
    "# from nltk.corpus import brown\n",
    "print(str(nltk.corpus.brown).replace('\\\\\\\\','/'))"
   ]
  },
  {
   "cell_type": "code",
   "execution_count": null,
   "metadata": {
    "colab": {
     "base_uri": "https://localhost:8080/"
    },
    "executionInfo": {
     "elapsed": 371,
     "status": "ok",
     "timestamp": 1709554999724,
     "user": {
      "displayName": "professor",
      "userId": "02563211122263964727"
     },
     "user_tz": -330
    },
    "id": "ELo6W8s_zld9",
    "outputId": "ad796d5f-8779-4606-fb7a-b99df79877cd"
   },
   "outputs": [
    {
     "data": {
      "text/plain": [
       "<PlaintextCorpusReader in '/root/nltk_data/corpora/inaugural'>"
      ]
     },
     "execution_count": 10,
     "metadata": {},
     "output_type": "execute_result"
    }
   ],
   "source": [
    "# The Inaugural Address Corpus:\n",
    "nltk.corpus.inaugural\n",
    "#from nltk.corpus import inaugural"
   ]
  },
  {
   "cell_type": "code",
   "execution_count": null,
   "metadata": {
    "colab": {
     "base_uri": "https://localhost:8080/"
    },
    "executionInfo": {
     "elapsed": 410,
     "status": "ok",
     "timestamp": 1709555005105,
     "user": {
      "displayName": "professor",
      "userId": "02563211122263964727"
     },
     "user_tz": -330
    },
    "id": "BXsyRLvhxSm-",
    "outputId": "c0032a16-c8b2-474b-e32c-5bde73b53796"
   },
   "outputs": [
    {
     "name": "stdout",
     "output_type": "stream",
     "text": [
      "<PlaintextCorpusReader in '/root/nltk_data/corpora/inaugural'>\n"
     ]
    }
   ],
   "source": [
    "print(str(nltk.corpus.inaugural).replace('\\\\\\\\','/'))"
   ]
  },
  {
   "cell_type": "code",
   "execution_count": null,
   "metadata": {
    "colab": {
     "base_uri": "https://localhost:8080/"
    },
    "executionInfo": {
     "elapsed": 436,
     "status": "ok",
     "timestamp": 1709555013625,
     "user": {
      "displayName": "professor",
      "userId": "02563211122263964727"
     },
     "user_tz": -330
    },
    "id": "1iKYp6odwAnI",
    "outputId": "18f94f2e-730c-419e-ebd6-4736c4a4b463"
   },
   "outputs": [
    {
     "data": {
      "text/plain": [
       "<BracketParseCorpusReader in '/root/nltk_data/corpora/treebank/combined'>"
      ]
     },
     "execution_count": 12,
     "metadata": {},
     "output_type": "execute_result"
    }
   ],
   "source": [
    "# The Penn Treebank Corpus:\n",
    "nltk.corpus.treebank"
   ]
  },
  {
   "cell_type": "code",
   "execution_count": null,
   "metadata": {
    "colab": {
     "base_uri": "https://localhost:8080/"
    },
    "executionInfo": {
     "elapsed": 6,
     "status": "ok",
     "timestamp": 1709555015767,
     "user": {
      "displayName": "professor",
      "userId": "02563211122263964727"
     },
     "user_tz": -330
    },
    "id": "pZEcfbDnxEht",
    "outputId": "46a76094-411d-401a-9d3b-700dfd06d66e"
   },
   "outputs": [
    {
     "name": "stdout",
     "output_type": "stream",
     "text": [
      "<BracketParseCorpusReader in '/root/nltk_data/corpora/treebank/combined'>\n"
     ]
    }
   ],
   "source": [
    "print(str(nltk.corpus.treebank).replace('\\\\\\\\','/'))"
   ]
  },
  {
   "cell_type": "code",
   "execution_count": null,
   "metadata": {
    "colab": {
     "base_uri": "https://localhost:8080/"
    },
    "executionInfo": {
     "elapsed": 754,
     "status": "ok",
     "timestamp": 1709555025928,
     "user": {
      "displayName": "professor",
      "userId": "02563211122263964727"
     },
     "user_tz": -330
    },
    "id": "GkqbzmZ_0UXJ",
    "outputId": "e5bab4fb-25c2-4cee-a84c-06f67db0b30a"
   },
   "outputs": [
    {
     "data": {
      "text/plain": [
       "<WordListCorpusReader in '/root/nltk_data/corpora/names'>"
      ]
     },
     "execution_count": 14,
     "metadata": {},
     "output_type": "execute_result"
    }
   ],
   "source": [
    "# The names Corpus:\n",
    "nltk.corpus.names\n",
    "#from nltk.corpus import names"
   ]
  },
  {
   "cell_type": "code",
   "execution_count": null,
   "metadata": {
    "colab": {
     "base_uri": "https://localhost:8080/"
    },
    "executionInfo": {
     "elapsed": 510,
     "status": "ok",
     "timestamp": 1709527217530,
     "user": {
      "displayName": "professor",
      "userId": "02563211122263964727"
     },
     "user_tz": -330
    },
    "id": "PEWxfscDxPih",
    "outputId": "ebd86c11-22b6-4312-ab25-11a746ecdaf4"
   },
   "outputs": [
    {
     "name": "stdout",
     "output_type": "stream",
     "text": [
      "<WordListCorpusReader in '/root/nltk_data/corpora/names'>\n"
     ]
    }
   ],
   "source": [
    "# The Name Genders Corpus:\n",
    "print(str(nltk.corpus.names).replace('\\\\\\\\','/'))"
   ]
  },
  {
   "cell_type": "code",
   "execution_count": null,
   "metadata": {
    "colab": {
     "base_uri": "https://localhost:8080/"
    },
    "executionInfo": {
     "elapsed": 1645,
     "status": "ok",
     "timestamp": 1709555085188,
     "user": {
      "displayName": "professor",
      "userId": "02563211122263964727"
     },
     "user_tz": -330
    },
    "id": "qgUH_4Tia8br",
    "outputId": "eb60d016-d8f3-48c4-9c88-315142c8e786"
   },
   "outputs": [
    {
     "data": {
      "text/plain": [
       "<WordNetCorpusReader in '/root/nltk_data/corpora/wordnet.zip/wordnet/'>"
      ]
     },
     "execution_count": 16,
     "metadata": {},
     "output_type": "execute_result"
    }
   ],
   "source": [
    "nltk.corpus.wordnet"
   ]
  },
  {
   "cell_type": "code",
   "execution_count": null,
   "metadata": {
    "colab": {
     "base_uri": "https://localhost:8080/"
    },
    "executionInfo": {
     "elapsed": 419,
     "status": "ok",
     "timestamp": 1709555124620,
     "user": {
      "displayName": "professor",
      "userId": "02563211122263964727"
     },
     "user_tz": -330
    },
    "id": "xN96rtCQbIZw",
    "outputId": "55872c79-ba67-49e2-f9a6-c4935c828e90"
   },
   "outputs": [
    {
     "data": {
      "text/plain": [
       "<VerbnetCorpusReader in '/root/nltk_data/corpora/verbnet'>"
      ]
     },
     "execution_count": 17,
     "metadata": {},
     "output_type": "execute_result"
    }
   ],
   "source": [
    "nltk.corpus.verbnet"
   ]
  },
  {
   "cell_type": "code",
   "execution_count": null,
   "metadata": {
    "colab": {
     "base_uri": "https://localhost:8080/"
    },
    "executionInfo": {
     "elapsed": 512,
     "status": "ok",
     "timestamp": 1709555222526,
     "user": {
      "displayName": "professor",
      "userId": "02563211122263964727"
     },
     "user_tz": -330
    },
    "id": "gD7UKVQubU23",
    "outputId": "83594e72-efc0-4986-e59a-0d088317f1e8"
   },
   "outputs": [
    {
     "data": {
      "text/plain": [
       "<WordListCorpusReader in '/root/nltk_data/corpora/gazetteers'>"
      ]
     },
     "execution_count": 18,
     "metadata": {},
     "output_type": "execute_result"
    }
   ],
   "source": [
    "nltk.corpus.gazetteers"
   ]
  },
  {
   "cell_type": "code",
   "execution_count": null,
   "metadata": {
    "colab": {
     "base_uri": "https://localhost:8080/"
    },
    "executionInfo": {
     "elapsed": 393,
     "status": "ok",
     "timestamp": 1709555273174,
     "user": {
      "displayName": "professor",
      "userId": "02563211122263964727"
     },
     "user_tz": -330
    },
    "id": "LB-UFN9bbrk-",
    "outputId": "0a9a5410-02dd-4b70-f135-8e1f1b93f5ab"
   },
   "outputs": [
    {
     "data": {
      "text/plain": [
       "<PlaintextCorpusReader in '/root/nltk_data/corpora/gutenberg'>"
      ]
     },
     "execution_count": 19,
     "metadata": {},
     "output_type": "execute_result"
    }
   ],
   "source": [
    "nltk.corpus.gutenberg"
   ]
  },
  {
   "cell_type": "markdown",
   "metadata": {
    "id": "nAfH7Tb63yLx"
   },
   "source": [
    "# **Most corpora consist of a set of files, each containing a document (or other pieces of text). A list of identifiers for these files is accessed via the fileids() method of the corpus reader:**"
   ]
  },
  {
   "cell_type": "code",
   "execution_count": null,
   "metadata": {
    "id": "-llgFwt8_7zw"
   },
   "outputs": [],
   "source": [
    "nltk.corpus.treebank.fileids()"
   ]
  },
  {
   "cell_type": "code",
   "execution_count": null,
   "metadata": {
    "id": "lIn4PEJY__hA"
   },
   "outputs": [],
   "source": [
    "nltk.corpus.brown.fileids()"
   ]
  },
  {
   "cell_type": "code",
   "execution_count": null,
   "metadata": {
    "id": "97UZkbkqAD0s"
   },
   "outputs": [],
   "source": [
    "nltk.corpus.inaugural.fileids()"
   ]
  },
  {
   "cell_type": "markdown",
   "metadata": {
    "id": "kBAHa58X8CXa"
   },
   "source": [
    "# **Each corpus reader provides a variety of methods to read data from the corpus, depending on the format of the corpus. For example, plaintext corpora support methods to read the corpus as raw text, a list of words, a list of sentences, or a list of paragraphs.**"
   ]
  },
  {
   "cell_type": "code",
   "execution_count": null,
   "metadata": {
    "colab": {
     "base_uri": "https://localhost:8080/",
     "height": 139
    },
    "executionInfo": {
     "elapsed": 423,
     "status": "ok",
     "timestamp": 1709463114958,
     "user": {
      "displayName": "professor",
      "userId": "02563211122263964727"
     },
     "user_tz": -330
    },
    "id": "lEdHgUIf757N",
    "outputId": "006023d0-2d3a-43e0-bd1f-3a8a11219525"
   },
   "outputs": [
    {
     "data": {
      "application/vnd.google.colaboratory.intrinsic+json": {
       "type": "string"
      },
      "text/plain": [
       "'Fellow-Citizens of the Senate and of the House of Representatives:\\n\\nAmong the vicissitudes incident to life no event could have filled me with greater anxieties than that of which the notification was transmitted by your order, and received on the 14th day of the present month. On the one hand, I was summoned by my Country, whose voice I can never hear but with veneration and love, from a retreat which I had chosen with the fondest predilection, and, in my flattering hopes, with an immutable decision, as the asylum of my declining years -- a retreat which was rendered every day more necessary as well as more dear to me by the addition of habit to inclination, and of frequent interruptions in my health to the gradual waste committed on it by time. On the other hand, the magnitude and difficulty of the trust to which the voice of my country called me, being sufficient to awaken in the wisest and most experienced of her citizens a distrustful scrutiny into his qualifications, could not but overwhelm with despondence one who (inheriting inferior endowments from nature and unpracticed in the duties of civil administration) ought to be peculiarly conscious of his own deficiencies. In this conflict of emotions all I dare aver is that it has been my faithful study to collect my duty from a just appreciation of every circumstance by which it might be affected. All I dare hope is that if, in executing this task, I have been too much swayed by a grateful remembrance of former instances, or by an affectionate sensibility to this transcendent proof of the confidence of my fellow citizens, and have thence too little consulted my incapacity as well as disinclination for the weighty and untried cares before me, my error will be palliated by the motives which mislead me, and its consequences be judged by my country with some share of the partiality in which they originated.\\n\\nSuch being the impressions under which I have, in obedience to the public summons, repaired to the present station, it would be peculiarly improper to omit in this first official act my fervent supplications to that Almighty Being who rules over the universe, who presides in the councils of nations, and whose providential aids can supply every human defect, that His benediction may consecrate to the liberties and happiness of the people of the United States a Government instituted by themselves for these essential purposes, and may enable every instrument employed in its administration to execute with success the functions allotted to his charge. In tendering this homage to the Great Author of every public and private good, I assure myself that it expresses your sentiments not less than my own, nor those of my fellow citizens at large less than either. No people can be bound to acknowledge and adore the Invisible Hand which conducts the affairs of men more than those of the United States. Every step by which they have advanced to the character of an independent nation seems to have been distinguished by some token of providential agency; and in the important revolution just accomplished in the system of their united government the tranquil deliberations and voluntary consent of so many distinct communities from which the event has resulted can not be compared with the means by which most governments have been established without some return of pious gratitude, along with an humble anticipation of the future blessings which the past seem to presage. These reflections, arising out of the present crisis, have forced themselves too strongly on my mind to be suppressed. You will join with me, I trust, in thinking that there are none under the influence of which the proceedings of a new and free government can more auspiciously commence.\\n\\nBy the article establishing the executive department it is made the duty of the President \"to recommend to your consideration such measures as he shall judge necessary and expedient.\" The circumstances under which I now meet you will acquit me from entering into that subject further than to refer to the great constitutional charter under which you are assembled, and which, in defining your powers, designates the objects to which your attention is to be given. It will be more consistent with those circumstances, and far more congenial with the feelings which actuate me, to substitute, in place of a recommendation of particular measures, the tribute that is due to the talents, the rectitude, and the patriotism which adorn the characters selected to devise and adopt them. In these honorable qualifications I behold the surest pledges that as on one side no local prejudices or attachments, no separate views nor party animosities, will misdirect the comprehensive and equal eye which ought to watch over this great assemblage of communities and interests, so, on another, that the foundation of our national policy will be laid in the pure and immutable principles of private morality, and the preeminence of free government be exemplified by all the attributes which can win the affections of its citizens and command the respect of the world. I dwell on this prospect with every satisfaction which an ardent love for my country can inspire, since there is no truth more thoroughly established than that there exists in the economy and course of nature an indissoluble union between virtue and happiness; between duty and advantage; between the genuine maxims of an honest and magnanimous policy and the solid rewards of public prosperity and felicity; since we ought to be no less persuaded that the propitious smiles of Heaven can never be expected on a nation that disregards the eternal rules of order and right which Heaven itself has ordained; and since the preservation of the sacred fire of liberty and the destiny of the republican model of government are justly considered, perhaps, as deeply, as finally, staked on the experiment entrusted to the hands of the American people.\\n\\nBesides the ordinary objects submitted to your care, it will remain with your judgment to decide how far an exercise of the occasional power delegated by the fifth article of the Constitution is rendered expedient at the present juncture by the nature of objections which have been urged against the system, or by the degree of inquietude which has given birth to them. Instead of undertaking particular recommendations on this subject, in which I could be guided by no lights derived from official opportunities, I shall again give way to my entire confidence in your discernment and pursuit of the public good; for I assure myself that whilst you carefully avoid every alteration which might endanger the benefits of an united and effective government, or which ought to await the future lessons of experience, a reverence for the characteristic rights of freemen and a regard for the public harmony will sufficiently influence your deliberations on the question how far the former can be impregnably fortified or the latter be safely and advantageously promoted.\\n\\nTo the foregoing observations I have one to add, which will be most properly addressed to the House of Representatives. It concerns myself, and will therefore be as brief as possible. When I was first honored with a call into the service of my country, then on the eve of an arduous struggle for its liberties, the light in which I contemplated my duty required that I should renounce every pecuniary compensation. From this resolution I have in no instance departed; and being still under the impressions which produced it, I must decline as inapplicable to myself any share in the personal emoluments which may be indispensably included in a permanent provision for the executive department, and must accordingly pray that the pecuniary estimates for the station in which I am placed may during my continuance in it be limited to such actual expenditures as the public good may be thought to require.\\n\\nHaving thus imparted to you my sentiments as they have been awakened by the occasion which brings us together, I shall take my present leave; but not without resorting once more to the benign Parent of the Human Race in humble supplication that, since He has been pleased to favor the American people with opportunities for deliberating in perfect tranquillity, and dispositions for deciding with unparalleled unanimity on a form of government for the security of their union and the advancement of their happiness, so His divine blessing may be equally conspicuous in the enlarged views, the temperate consultations, and the wise measures on which the success of this Government must depend. \\n'"
      ]
     },
     "execution_count": 49,
     "metadata": {},
     "output_type": "execute_result"
    }
   ],
   "source": [
    "# Use raw to display the txt file\n",
    "inaugural.raw('1789-Washington.txt')"
   ]
  },
  {
   "cell_type": "code",
   "execution_count": null,
   "metadata": {
    "id": "RiAutZ8WAVQG"
   },
   "outputs": [],
   "source": [
    "# To see the paragraphs in the txt file\n",
    "inaugural.paras('1789-Washington.txt')"
   ]
  },
  {
   "cell_type": "code",
   "execution_count": null,
   "metadata": {
    "id": "P-HdP5QsAewi"
   },
   "outputs": [],
   "source": [
    "# To see the senetnces in the txt file\n",
    "inaugural.sents('1789-Washington.txt')"
   ]
  },
  {
   "cell_type": "code",
   "execution_count": null,
   "metadata": {
    "colab": {
     "base_uri": "https://localhost:8080/"
    },
    "executionInfo": {
     "elapsed": 361,
     "status": "ok",
     "timestamp": 1709463142185,
     "user": {
      "displayName": "professor",
      "userId": "02563211122263964727"
     },
     "user_tz": -330
    },
    "id": "6xhP6plF8W_b",
    "outputId": "cea7a52a-2c64-4066-a006-72949b69b05f"
   },
   "outputs": [
    {
     "data": {
      "text/plain": [
       "['Fellow', '-', 'Citizens', 'of', 'the', 'Senate', ...]"
      ]
     },
     "execution_count": 50,
     "metadata": {},
     "output_type": "execute_result"
    }
   ],
   "source": [
    "inaugural.words('1789-Washington.txt')"
   ]
  },
  {
   "cell_type": "code",
   "execution_count": null,
   "metadata": {
    "colab": {
     "base_uri": "https://localhost:8080/"
    },
    "executionInfo": {
     "elapsed": 466,
     "status": "ok",
     "timestamp": 1709528681893,
     "user": {
      "displayName": "professor",
      "userId": "02563211122263964727"
     },
     "user_tz": -330
    },
    "id": "OEfY0bg91yen",
    "outputId": "a69745da-aebf-46f6-f085-369d46b2aef6"
   },
   "outputs": [
    {
     "data": {
      "text/plain": [
       "[[['The', 'Brannon', 'outfit', '--', 'known', 'as', 'the', 'Slash-B', 'because', 'of', 'its', 'brand', '--', 'reached', 'Hondo', 'Creek', 'before', 'sundown', '.'], ['The', 'herd', 'was', 'watered', 'and', 'then', 'thrown', 'onto', 'a', 'broad', 'grass', 'flat', 'which', 'was', 'to', 'be', 'the', 'first', \"night's\", 'bedground', '.'], ['Two', 'of', 'the', 'new', 'hands', ',', 'a', 'Mexican', 'named', 'Jose', 'Amado', 'and', 'a', 'kid', 'known', 'only', 'as', 'Laredo', ',', 'were', 'picked', 'for', 'the', 'first', 'trick', 'of', 'riding', 'night', 'herd', '.']], [['The', 'rest', 'of', 'the', 'crew', 'offsaddled', 'their', 'mounts', 'and', 'turned', 'them', 'into', 'the', 'remuda', '.'], ['They', 'got', 'tin', 'cups', 'of', 'coffee', 'from', 'the', 'big', 'pot', 'on', 'the', \"coosie's\", 'fire', ',', 'rolled', 'and', 'lighted', 'brown-paper', 'cigarettes', ',', 'lounged', 'about', '.'], ['There', 'was', 'some', 'idle', 'talk', ',', 'a', 'listless', 'discussion', 'of', 'this', 'or', 'that', 'small', 'happening', 'during', 'the', \"day's\", 'drive', '.'], ['But', 'they', 'deliberately', 'avoided', 'the', 'one', 'subject', 'that', 'had', 'them', 'all', 'curious', ':', 'the', 'failure', 'of', 'the', \"boss's\", 'wife', 'and', 'son', 'to', 'join', 'the', 'outfit', '.'], ['It', 'especially', 'bothered', 'the', 'older', 'hands', '.']], ...]"
      ]
     },
     "execution_count": 36,
     "metadata": {},
     "output_type": "execute_result"
    }
   ],
   "source": [
    "nltk.corpus.brown.paras('cn10')"
   ]
  },
  {
   "cell_type": "code",
   "execution_count": null,
   "metadata": {
    "colab": {
     "base_uri": "https://localhost:8080/"
    },
    "executionInfo": {
     "elapsed": 454,
     "status": "ok",
     "timestamp": 1709528791110,
     "user": {
      "displayName": "professor",
      "userId": "02563211122263964727"
     },
     "user_tz": -330
    },
    "id": "DiUUDqj-2wKk",
    "outputId": "e71eb2ea-08fd-4390-9bdc-df5a198e4d69"
   },
   "outputs": [
    {
     "data": {
      "text/plain": [
       "[['The', 'Brannon', 'outfit', '--', 'known', 'as', 'the', 'Slash-B', 'because', 'of', 'its', 'brand', '--', 'reached', 'Hondo', 'Creek', 'before', 'sundown', '.'], ['The', 'herd', 'was', 'watered', 'and', 'then', 'thrown', 'onto', 'a', 'broad', 'grass', 'flat', 'which', 'was', 'to', 'be', 'the', 'first', \"night's\", 'bedground', '.'], ...]"
      ]
     },
     "execution_count": 37,
     "metadata": {},
     "output_type": "execute_result"
    }
   ],
   "source": [
    "nltk.corpus.brown.sents('cn10')"
   ]
  },
  {
   "cell_type": "code",
   "execution_count": null,
   "metadata": {
    "colab": {
     "base_uri": "https://localhost:8080/"
    },
    "executionInfo": {
     "elapsed": 4,
     "status": "ok",
     "timestamp": 1709528850894,
     "user": {
      "displayName": "professor",
      "userId": "02563211122263964727"
     },
     "user_tz": -330
    },
    "id": "sMq3ETgt2_cS",
    "outputId": "df1bfe3c-4bd3-4371-da1a-9f2da680c4bf"
   },
   "outputs": [
    {
     "data": {
      "text/plain": [
       "['The', 'Brannon', 'outfit', '--', 'known', 'as', ...]"
      ]
     },
     "execution_count": 38,
     "metadata": {},
     "output_type": "execute_result"
    }
   ],
   "source": [
    "nltk.corpus.brown.words('cn10')"
   ]
  },
  {
   "cell_type": "markdown",
   "metadata": {
    "id": "5y6sTTse8v1Z"
   },
   "source": [
    "# **Each of these reader methods may be given a single document’s item name or a list of document item names. When given a list of document item names, the reader methods will concatenate together the contents of the individual documents.**"
   ]
  },
  {
   "cell_type": "code",
   "execution_count": null,
   "metadata": {
    "colab": {
     "base_uri": "https://localhost:8080/"
    },
    "executionInfo": {
     "elapsed": 409,
     "status": "ok",
     "timestamp": 1709529015869,
     "user": {
      "displayName": "professor",
      "userId": "02563211122263964727"
     },
     "user_tz": -330
    },
    "id": "bkJ5SblR8kUZ",
    "outputId": "c14ae792-1a8d-4a69-ef2d-001f51223ce3"
   },
   "outputs": [
    {
     "name": "stdout",
     "output_type": "stream",
     "text": [
      "1538+147 == 1685\n"
     ]
    }
   ],
   "source": [
    "# To know the count(number) of words in the individual docuements\n",
    "l1 = len(inaugural.words('1789-Washington.txt'))\n",
    "l2 = len(inaugural.words('1793-Washington.txt'))\n",
    "l3 = len(inaugural.words(['1789-Washington.txt', '1793-Washington.txt']))\n",
    "print('%s+%s == %s' % (l1, l2, l3))"
   ]
  },
  {
   "cell_type": "code",
   "execution_count": null,
   "metadata": {
    "colab": {
     "base_uri": "https://localhost:8080/"
    },
    "executionInfo": {
     "elapsed": 458,
     "status": "ok",
     "timestamp": 1709529166200,
     "user": {
      "displayName": "professor",
      "userId": "02563211122263964727"
     },
     "user_tz": -330
    },
    "id": "BlxgLKhOBwF-",
    "outputId": "b93c38e6-a345-4bf1-b975-15d3784bd292"
   },
   "outputs": [
    {
     "data": {
      "text/plain": [
       "152901"
      ]
     },
     "execution_count": 40,
     "metadata": {},
     "output_type": "execute_result"
    }
   ],
   "source": [
    "# If the reader methods are called without any arguments,\n",
    "# they will typically load all documents in the corpus and will find the word count.\n",
    "len(inaugural.words())"
   ]
  },
  {
   "cell_type": "code",
   "execution_count": null,
   "metadata": {
    "colab": {
     "base_uri": "https://localhost:8080/"
    },
    "executionInfo": {
     "elapsed": 3566,
     "status": "ok",
     "timestamp": 1709529264436,
     "user": {
      "displayName": "professor",
      "userId": "02563211122263964727"
     },
     "user_tz": -330
    },
    "id": "CFG0963t4fqq",
    "outputId": "1d2658b7-24bb-4f49-e693-8494b132a10c"
   },
   "outputs": [
    {
     "data": {
      "text/plain": [
       "1161192"
      ]
     },
     "execution_count": 42,
     "metadata": {},
     "output_type": "execute_result"
    }
   ],
   "source": [
    "len(nltk.corpus.brown.words())"
   ]
  },
  {
   "cell_type": "code",
   "execution_count": null,
   "metadata": {
    "colab": {
     "base_uri": "https://localhost:8080/",
     "height": 35
    },
    "executionInfo": {
     "elapsed": 364,
     "status": "ok",
     "timestamp": 1709464637456,
     "user": {
      "displayName": "professor",
      "userId": "02563211122263964727"
     },
     "user_tz": -330
    },
    "id": "ITdkRGWCBxxx",
    "outputId": "762c146a-1609-44a6-bc73-f77d9a22ef22"
   },
   "outputs": [
    {
     "data": {
      "application/vnd.google.colaboratory.intrinsic+json": {
       "type": "string"
      },
      "text/plain": [
       "'C-Span Inaugural Address Corpus\\n'"
      ]
     },
     "execution_count": 56,
     "metadata": {},
     "output_type": "execute_result"
    }
   ],
   "source": [
    "# If a corpus contains a README file, it can be accessed with a readme() method:\n",
    "inaugural.readme()[:32]"
   ]
  },
  {
   "cell_type": "markdown",
   "metadata": {
    "id": "98LCODLNCkC0"
   },
   "source": [
    "# **Plaintext Corpora**\n",
    "(1) abc\n",
    "(2) genesis"
   ]
  },
  {
   "cell_type": "code",
   "execution_count": null,
   "metadata": {
    "colab": {
     "base_uri": "https://localhost:8080/"
    },
    "executionInfo": {
     "elapsed": 832,
     "status": "ok",
     "timestamp": 1709529601297,
     "user": {
      "displayName": "professor",
      "userId": "02563211122263964727"
     },
     "user_tz": -330
    },
    "id": "moqvsq7n5iGO",
    "outputId": "78bdaa38-bdb7-465b-921f-e745aaa142af"
   },
   "outputs": [
    {
     "data": {
      "text/plain": [
       "<PlaintextCorpusReader in '/root/nltk_data/corpora/abc'>"
      ]
     },
     "execution_count": 43,
     "metadata": {},
     "output_type": "execute_result"
    }
   ],
   "source": [
    "nltk.corpus.abc"
   ]
  },
  {
   "cell_type": "code",
   "execution_count": null,
   "metadata": {
    "id": "jmg4IiORAuX8"
   },
   "outputs": [],
   "source": [
    "nltk.corpus.abc.paras()"
   ]
  },
  {
   "cell_type": "code",
   "execution_count": null,
   "metadata": {
    "colab": {
     "base_uri": "https://localhost:8080/"
    },
    "executionInfo": {
     "elapsed": 4,
     "status": "ok",
     "timestamp": 1709529662614,
     "user": {
      "displayName": "professor",
      "userId": "02563211122263964727"
     },
     "user_tz": -330
    },
    "id": "jTdyyEwB6EmN",
    "outputId": "1074c986-2711-45ff-90eb-cb38b01b32a3"
   },
   "outputs": [
    {
     "data": {
      "text/plain": [
       "[['PM', 'denies', 'knowledge', 'of', 'AWB', 'kickbacks', 'The', 'Prime', 'Minister', 'has', 'denied', 'he', 'knew', 'AWB', 'was', 'paying', 'kickbacks', 'to', 'Iraq', 'despite', 'writing', 'to', 'the', 'wheat', 'exporter', 'asking', 'to', 'be', 'kept', 'fully', 'informed', 'on', 'Iraq', 'wheat', 'sales', '.'], ['Letters', 'from', 'John', 'Howard', 'and', 'Deputy', 'Prime', 'Minister', 'Mark', 'Vaile', 'to', 'AWB', 'have', 'been', 'released', 'by', 'the', 'Cole', 'inquiry', 'into', 'the', 'oil', 'for', 'food', 'program', '.'], ...]"
      ]
     },
     "execution_count": 44,
     "metadata": {},
     "output_type": "execute_result"
    }
   ],
   "source": [
    "nltk.corpus.abc.sents()"
   ]
  },
  {
   "cell_type": "code",
   "execution_count": null,
   "metadata": {
    "colab": {
     "base_uri": "https://localhost:8080/"
    },
    "executionInfo": {
     "elapsed": 371,
     "status": "ok",
     "timestamp": 1709464838465,
     "user": {
      "displayName": "professor",
      "userId": "02563211122263964727"
     },
     "user_tz": -330
    },
    "id": "fw8UGoKdCneE",
    "outputId": "e3a4df91-e04d-45f4-99fa-fb9b5653722c"
   },
   "outputs": [
    {
     "data": {
      "text/plain": [
       "['PM', 'denies', 'knowledge', 'of', 'AWB', 'kickbacks', ...]"
      ]
     },
     "execution_count": 57,
     "metadata": {},
     "output_type": "execute_result"
    }
   ],
   "source": [
    "nltk.corpus.abc.words()"
   ]
  },
  {
   "cell_type": "code",
   "execution_count": null,
   "metadata": {
    "colab": {
     "base_uri": "https://localhost:8080/"
    },
    "executionInfo": {
     "elapsed": 506,
     "status": "ok",
     "timestamp": 1709529987225,
     "user": {
      "displayName": "professor",
      "userId": "02563211122263964727"
     },
     "user_tz": -330
    },
    "id": "72FyI_6f7Twz",
    "outputId": "817777a5-19b2-4006-8621-a702a6006290"
   },
   "outputs": [
    {
     "data": {
      "text/plain": [
       "['rural.txt', 'science.txt']"
      ]
     },
     "execution_count": 52,
     "metadata": {},
     "output_type": "execute_result"
    }
   ],
   "source": [
    "nltk.corpus.abc.fileids()"
   ]
  },
  {
   "cell_type": "code",
   "execution_count": null,
   "metadata": {
    "id": "-JY6GfCDAx5M"
   },
   "outputs": [],
   "source": [
    "nltk.corpus.genesis.paras()"
   ]
  },
  {
   "cell_type": "code",
   "execution_count": null,
   "metadata": {
    "colab": {
     "base_uri": "https://localhost:8080/"
    },
    "executionInfo": {
     "elapsed": 524,
     "status": "ok",
     "timestamp": 1709529907441,
     "user": {
      "displayName": "professor",
      "userId": "02563211122263964727"
     },
     "user_tz": -330
    },
    "id": "l_m3iXEK62I_",
    "outputId": "adfd1089-4df7-4dc2-9ff4-85c9bc874841"
   },
   "outputs": [
    {
     "data": {
      "text/plain": [
       "[['In', 'the', 'beginning', 'God', 'created', 'the', 'heaven', 'and', 'the', 'earth', '.'], ['And', 'the', 'earth', 'was', 'without', 'form', ',', 'and', 'void', ';', 'and', 'darkness', 'was', 'upon', 'the', 'face', 'of', 'the', 'deep', '.'], ...]"
      ]
     },
     "execution_count": 49,
     "metadata": {},
     "output_type": "execute_result"
    }
   ],
   "source": [
    "nltk.corpus.genesis.sents()"
   ]
  },
  {
   "cell_type": "code",
   "execution_count": null,
   "metadata": {
    "colab": {
     "base_uri": "https://localhost:8080/"
    },
    "executionInfo": {
     "elapsed": 425,
     "status": "ok",
     "timestamp": 1709529913902,
     "user": {
      "displayName": "professor",
      "userId": "02563211122263964727"
     },
     "user_tz": -330
    },
    "id": "6dLWdGJTCdul",
    "outputId": "2685896c-c06e-4d7e-dec5-3bdb54ea7be7"
   },
   "outputs": [
    {
     "data": {
      "text/plain": [
       "['In', 'the', 'beginning', 'God', 'created', 'the', ...]"
      ]
     },
     "execution_count": 50,
     "metadata": {},
     "output_type": "execute_result"
    }
   ],
   "source": [
    "nltk.corpus.genesis.words()"
   ]
  },
  {
   "cell_type": "code",
   "execution_count": null,
   "metadata": {
    "colab": {
     "base_uri": "https://localhost:8080/"
    },
    "executionInfo": {
     "elapsed": 513,
     "status": "ok",
     "timestamp": 1709529933852,
     "user": {
      "displayName": "professor",
      "userId": "02563211122263964727"
     },
     "user_tz": -330
    },
    "id": "ZlF0b0XT7HRR",
    "outputId": "7f2325dc-081f-44eb-c4ae-ad1a5ec9a7d0"
   },
   "outputs": [
    {
     "data": {
      "text/plain": [
       "['english-kjv.txt',\n",
       " 'english-web.txt',\n",
       " 'finnish.txt',\n",
       " 'french.txt',\n",
       " 'german.txt',\n",
       " 'lolcat.txt',\n",
       " 'portuguese.txt',\n",
       " 'swedish.txt']"
      ]
     },
     "execution_count": 51,
     "metadata": {},
     "output_type": "execute_result"
    }
   ],
   "source": [
    "nltk.corpus.genesis.fileids()"
   ]
  },
  {
   "cell_type": "code",
   "execution_count": null,
   "metadata": {
    "colab": {
     "base_uri": "https://localhost:8080/"
    },
    "executionInfo": {
     "elapsed": 723,
     "status": "ok",
     "timestamp": 1709530093297,
     "user": {
      "displayName": "professor",
      "userId": "02563211122263964727"
     },
     "user_tz": -330
    },
    "id": "06A4Byr77syW",
    "outputId": "1ee0c4fd-44b3-4eba-efd1-2337b425a37e"
   },
   "outputs": [
    {
     "data": {
      "text/plain": [
       "['austen-emma.txt',\n",
       " 'austen-persuasion.txt',\n",
       " 'austen-sense.txt',\n",
       " 'bible-kjv.txt',\n",
       " 'blake-poems.txt',\n",
       " 'bryant-stories.txt',\n",
       " 'burgess-busterbrown.txt',\n",
       " 'carroll-alice.txt',\n",
       " 'chesterton-ball.txt',\n",
       " 'chesterton-brown.txt',\n",
       " 'chesterton-thursday.txt',\n",
       " 'edgeworth-parents.txt',\n",
       " 'melville-moby_dick.txt',\n",
       " 'milton-paradise.txt',\n",
       " 'shakespeare-caesar.txt',\n",
       " 'shakespeare-hamlet.txt',\n",
       " 'shakespeare-macbeth.txt',\n",
       " 'whitman-leaves.txt']"
      ]
     },
     "execution_count": 53,
     "metadata": {},
     "output_type": "execute_result"
    }
   ],
   "source": [
    "nltk.corpus.gutenberg.fileids()"
   ]
  },
  {
   "cell_type": "code",
   "execution_count": null,
   "metadata": {
    "colab": {
     "base_uri": "https://localhost:8080/"
    },
    "executionInfo": {
     "elapsed": 362,
     "status": "ok",
     "timestamp": 1709464885422,
     "user": {
      "displayName": "professor",
      "userId": "02563211122263964727"
     },
     "user_tz": -330
    },
    "id": "w7mhY5O8C5kE",
    "outputId": "d29ddf6b-02b7-4fe9-e9ca-613fc2909e83"
   },
   "outputs": [
    {
     "data": {
      "text/plain": [
       "['[', 'Emma', 'by', 'Jane', 'Austen', '1816', ']', ...]"
      ]
     },
     "execution_count": 59,
     "metadata": {},
     "output_type": "execute_result"
    }
   ],
   "source": [
    "nltk.corpus.gutenberg.words(fileids='austen-emma.txt')"
   ]
  },
  {
   "cell_type": "code",
   "execution_count": null,
   "metadata": {
    "colab": {
     "base_uri": "https://localhost:8080/"
    },
    "executionInfo": {
     "elapsed": 506,
     "status": "ok",
     "timestamp": 1709530199285,
     "user": {
      "displayName": "professor",
      "userId": "02563211122263964727"
     },
     "user_tz": -330
    },
    "id": "IwHqj41S8FEF",
    "outputId": "3d58fc0d-11d3-4a84-c434-cb7056b0fb2a"
   },
   "outputs": [
    {
     "data": {
      "text/plain": [
       "[['[', 'Emma', 'by', 'Jane', 'Austen', '1816', ']'], ['VOLUME', 'I'], ...]"
      ]
     },
     "execution_count": 54,
     "metadata": {},
     "output_type": "execute_result"
    }
   ],
   "source": [
    "nltk.corpus.gutenberg.sents(fileids='austen-emma.txt')"
   ]
  },
  {
   "cell_type": "code",
   "execution_count": null,
   "metadata": {
    "colab": {
     "base_uri": "https://localhost:8080/"
    },
    "executionInfo": {
     "elapsed": 471,
     "status": "ok",
     "timestamp": 1709464888681,
     "user": {
      "displayName": "professor",
      "userId": "02563211122263964727"
     },
     "user_tz": -330
    },
    "id": "4eY6Wb5uC75Q",
    "outputId": "a6477f03-d962-42bb-ad18-d0b84aebc777"
   },
   "outputs": [
    {
     "data": {
      "text/plain": [
       "['Fellow', '-', 'Citizens', 'of', 'the', 'Senate', ...]"
      ]
     },
     "execution_count": 60,
     "metadata": {},
     "output_type": "execute_result"
    }
   ],
   "source": [
    "nltk.corpus.inaugural.words()"
   ]
  },
  {
   "cell_type": "code",
   "execution_count": null,
   "metadata": {
    "colab": {
     "base_uri": "https://localhost:8080/"
    },
    "executionInfo": {
     "elapsed": 618,
     "status": "ok",
     "timestamp": 1709464895594,
     "user": {
      "displayName": "professor",
      "userId": "02563211122263964727"
     },
     "user_tz": -330
    },
    "id": "YcBIl_pYC9qg",
    "outputId": "de143828-d452-4fdc-d5a4-31c72895fd20"
   },
   "outputs": [
    {
     "data": {
      "text/plain": [
       "['PRESIDENT', 'HARRY', 'S', '.', 'TRUMAN', \"'\", 'S', ...]"
      ]
     },
     "execution_count": 61,
     "metadata": {},
     "output_type": "execute_result"
    }
   ],
   "source": [
    "nltk.corpus.state_union.words()"
   ]
  },
  {
   "cell_type": "code",
   "execution_count": null,
   "metadata": {
    "colab": {
     "base_uri": "https://localhost:8080/"
    },
    "executionInfo": {
     "elapsed": 505,
     "status": "ok",
     "timestamp": 1709530435120,
     "user": {
      "displayName": "professor",
      "userId": "02563211122263964727"
     },
     "user_tz": -330
    },
    "id": "aeJZdYt48_vE",
    "outputId": "24ad1b6c-9705-4062-a78f-95383bdfcc6d"
   },
   "outputs": [
    {
     "data": {
      "text/plain": [
       "['firefox.txt',\n",
       " 'grail.txt',\n",
       " 'overheard.txt',\n",
       " 'pirates.txt',\n",
       " 'singles.txt',\n",
       " 'wine.txt']"
      ]
     },
     "execution_count": 55,
     "metadata": {},
     "output_type": "execute_result"
    }
   ],
   "source": [
    "nltk.corpus.webtext.fileids()"
   ]
  },
  {
   "cell_type": "code",
   "execution_count": null,
   "metadata": {
    "colab": {
     "base_uri": "https://localhost:8080/"
    },
    "executionInfo": {
     "elapsed": 500,
     "status": "ok",
     "timestamp": 1709530488549,
     "user": {
      "displayName": "professor",
      "userId": "02563211122263964727"
     },
     "user_tz": -330
    },
    "id": "58vv5WBZ9Lks",
    "outputId": "945f3238-4730-4c0f-e410-6087ea9221d1"
   },
   "outputs": [
    {
     "data": {
      "text/plain": [
       "[['Cookie', 'Manager', ':', '\"', 'Don', \"'\", 't', 'allow', 'sites', 'that', 'set', 'removed', 'cookies', 'to', 'set', 'future', 'cookies', '\"', 'should', 'stay', 'checked', 'When', 'in', 'full', 'screen', 'mode', 'Pressing', 'Ctrl', '-', 'N', 'should', 'open', 'a', 'new', 'browser', 'when', 'only', 'download', 'dialog', 'is', 'left', 'open', 'add', 'icons', 'to', 'context', 'menu', 'So', 'called', '\"', 'tab', 'bar', '\"', 'should', 'be', 'made', 'a', 'proper', 'toolbar', 'or', 'given', 'the', 'ability', 'collapse', '/', 'expand', '.'], ['[', 'XUL', ']', 'Implement', 'Cocoa', '-', 'style', 'toolbar', 'customization', '.'], ...]"
      ]
     },
     "execution_count": 56,
     "metadata": {},
     "output_type": "execute_result"
    }
   ],
   "source": [
    "nltk.corpus.webtext.sents('firefox.txt')"
   ]
  },
  {
   "cell_type": "code",
   "execution_count": null,
   "metadata": {
    "colab": {
     "base_uri": "https://localhost:8080/"
    },
    "executionInfo": {
     "elapsed": 421,
     "status": "ok",
     "timestamp": 1709530519218,
     "user": {
      "displayName": "professor",
      "userId": "02563211122263964727"
     },
     "user_tz": -330
    },
    "id": "O524opz4C_rR",
    "outputId": "b8147310-ddfd-46fd-bcd5-35858a19c6d2"
   },
   "outputs": [
    {
     "data": {
      "text/plain": [
       "['Cookie', 'Manager', ':', '\"', 'Don', \"'\", 't', ...]"
      ]
     },
     "execution_count": 57,
     "metadata": {},
     "output_type": "execute_result"
    }
   ],
   "source": [
    "nltk.corpus.webtext.words('firefox.txt')"
   ]
  },
  {
   "cell_type": "markdown",
   "metadata": {
    "id": "qyz5nW4RDRWD"
   },
   "source": [
    "# Tagged Corpora: In addition to the plaintext corpora, NLTK’s data package also contains a wide variety of annotated corpora. For example, the Brown Corpus is annotated with part-of-speech tags, and defines additional methods tagged_*() which words as (word,tag) tuples, rather than just bare word strings."
   ]
  },
  {
   "cell_type": "code",
   "execution_count": null,
   "metadata": {
    "id": "BD1Cv2iIDwXF"
   },
   "outputs": [],
   "source": [
    "from nltk.corpus import brown"
   ]
  },
  {
   "cell_type": "code",
   "execution_count": null,
   "metadata": {
    "colab": {
     "base_uri": "https://localhost:8080/"
    },
    "executionInfo": {
     "elapsed": 5,
     "status": "ok",
     "timestamp": 1709530684056,
     "user": {
      "displayName": "professor",
      "userId": "02563211122263964727"
     },
     "user_tz": -330
    },
    "id": "YMrgFiw-D11g",
    "outputId": "f04c6e92-c0ec-4992-d82a-fa8d48314799"
   },
   "outputs": [
    {
     "name": "stdout",
     "output_type": "stream",
     "text": [
      "['The', 'Fulton', 'County', 'Grand', 'Jury', 'said', ...]\n"
     ]
    }
   ],
   "source": [
    "print(brown.words())"
   ]
  },
  {
   "cell_type": "code",
   "execution_count": null,
   "metadata": {
    "colab": {
     "base_uri": "https://localhost:8080/"
    },
    "executionInfo": {
     "elapsed": 4,
     "status": "ok",
     "timestamp": 1709530706482,
     "user": {
      "displayName": "professor",
      "userId": "02563211122263964727"
     },
     "user_tz": -330
    },
    "id": "FH1-22uK-CWO",
    "outputId": "992fc21a-6492-49ff-b663-f7bbc28d0371"
   },
   "outputs": [
    {
     "name": "stdout",
     "output_type": "stream",
     "text": [
      "[('The', 'AT'), ('Fulton', 'NP-TL'), ...]\n"
     ]
    }
   ],
   "source": [
    "print(brown.tagged_words())"
   ]
  },
  {
   "cell_type": "code",
   "execution_count": null,
   "metadata": {
    "colab": {
     "base_uri": "https://localhost:8080/"
    },
    "executionInfo": {
     "elapsed": 568,
     "status": "ok",
     "timestamp": 1709530762035,
     "user": {
      "displayName": "professor",
      "userId": "02563211122263964727"
     },
     "user_tz": -330
    },
    "id": "15N6zsTn-QbO",
    "outputId": "223b57c8-8529-44fc-a5bc-ef6d095f9e64"
   },
   "outputs": [
    {
     "name": "stdout",
     "output_type": "stream",
     "text": [
      "[['The', 'Fulton', 'County', 'Grand', 'Jury', 'said', 'Friday', 'an', 'investigation', 'of', \"Atlanta's\", 'recent', 'primary', 'election', 'produced', '``', 'no', 'evidence', \"''\", 'that', 'any', 'irregularities', 'took', 'place', '.'], ['The', 'jury', 'further', 'said', 'in', 'term-end', 'presentments', 'that', 'the', 'City', 'Executive', 'Committee', ',', 'which', 'had', 'over-all', 'charge', 'of', 'the', 'election', ',', '``', 'deserves', 'the', 'praise', 'and', 'thanks', 'of', 'the', 'City', 'of', 'Atlanta', \"''\", 'for', 'the', 'manner', 'in', 'which', 'the', 'election', 'was', 'conducted', '.'], ...]\n",
      "[[('The', 'AT'), ('Fulton', 'NP-TL'), ('County', 'NN-TL'), ('Grand', 'JJ-TL'), ('Jury', 'NN-TL'), ('said', 'VBD'), ('Friday', 'NR'), ('an', 'AT'), ('investigation', 'NN'), ('of', 'IN'), (\"Atlanta's\", 'NP$'), ('recent', 'JJ'), ('primary', 'NN'), ('election', 'NN'), ('produced', 'VBD'), ('``', '``'), ('no', 'AT'), ('evidence', 'NN'), (\"''\", \"''\"), ('that', 'CS'), ('any', 'DTI'), ('irregularities', 'NNS'), ('took', 'VBD'), ('place', 'NN'), ('.', '.')], [('The', 'AT'), ('jury', 'NN'), ('further', 'RBR'), ('said', 'VBD'), ('in', 'IN'), ('term-end', 'NN'), ('presentments', 'NNS'), ('that', 'CS'), ('the', 'AT'), ('City', 'NN-TL'), ('Executive', 'JJ-TL'), ('Committee', 'NN-TL'), (',', ','), ('which', 'WDT'), ('had', 'HVD'), ('over-all', 'JJ'), ('charge', 'NN'), ('of', 'IN'), ('the', 'AT'), ('election', 'NN'), (',', ','), ('``', '``'), ('deserves', 'VBZ'), ('the', 'AT'), ('praise', 'NN'), ('and', 'CC'), ('thanks', 'NNS'), ('of', 'IN'), ('the', 'AT'), ('City', 'NN-TL'), ('of', 'IN-TL'), ('Atlanta', 'NP-TL'), (\"''\", \"''\"), ('for', 'IN'), ('the', 'AT'), ('manner', 'NN'), ('in', 'IN'), ('which', 'WDT'), ('the', 'AT'), ('election', 'NN'), ('was', 'BEDZ'), ('conducted', 'VBN'), ('.', '.')], ...]\n"
     ]
    }
   ],
   "source": [
    "print(brown.sents())\n",
    "print(brown.tagged_sents())"
   ]
  },
  {
   "cell_type": "code",
   "execution_count": null,
   "metadata": {
    "colab": {
     "base_uri": "https://localhost:8080/"
    },
    "executionInfo": {
     "elapsed": 522,
     "status": "ok",
     "timestamp": 1709530780313,
     "user": {
      "displayName": "professor",
      "userId": "02563211122263964727"
     },
     "user_tz": -330
    },
    "id": "g8smIhuB-WoL",
    "outputId": "90784949-868a-4791-a5e5-d993e3140426"
   },
   "outputs": [
    {
     "name": "stdout",
     "output_type": "stream",
     "text": [
      "[[['It', 'is', 'not', 'news', 'that', 'Nathan', 'Milstein', 'is', 'a', 'wizard', 'of', 'the', 'violin', '.'], ['Certainly', 'not', 'in', 'Orchestra', 'Hall', 'where', 'he', 'has', 'played', 'countless', 'recitals', ',', 'and', 'where', 'Thursday', 'night', 'he', 'celebrated', 'his', '20th', 'season', 'with', 'the', 'Chicago', 'Symphony', 'Orchestra', ',', 'playing', 'the', 'Brahms', 'Concerto', 'with', 'his', 'own', 'slashing', ',', 'demon-ridden', 'cadenza', 'melting', 'into', 'the', 'high', ',', 'pale', ',', 'pure', 'and', 'lovely', 'song', 'with', 'which', 'a', 'violinist', 'unlocks', 'the', 'heart', 'of', 'the', 'music', ',', 'or', 'forever', 'finds', 'it', 'closed', '.']], [['There', 'was', 'about', 'that', 'song', 'something', 'incandescent', ',', 'for', 'this', 'Brahms', 'was', 'Milstein', 'at', 'white', 'heat', '.'], ['Not', 'the', 'noblest', 'performance', 'we', 'have', 'heard', 'him', 'play', ',', 'or', 'the', 'most', 'spacious', ',', 'or', 'even', 'the', 'most', 'eloquent', '.'], ['Those', 'would', 'be', 'reserved', 'for', 'the', \"orchestra's\", 'great', 'nights', 'when', 'the', 'soloist', 'can', 'surpass', 'himself', '.'], ['This', 'time', 'the', 'orchestra', 'gave', 'him', 'some', 'superb', 'support', 'fired', 'by', 'response', 'to', 'his', 'own', 'high', 'mood', '.'], ['But', 'he', 'had', 'in', 'Walter', 'Hendl', 'a', 'willing', 'conductor', 'able', 'only', 'up', 'to', 'a', 'point', '.']], ...]\n",
      "[[[('It', 'PPS'), ('is', 'BEZ'), ('not', '*'), ('news', 'NN'), ('that', 'CS'), ('Nathan', 'NP'), ('Milstein', 'NP'), ('is', 'BEZ'), ('a', 'AT'), ('wizard', 'NN'), ('of', 'IN'), ('the', 'AT'), ('violin', 'NN'), ('.', '.')], [('Certainly', 'RB'), ('not', '*'), ('in', 'IN'), ('Orchestra', 'NN-TL'), ('Hall', 'NN-TL'), ('where', 'WRB'), ('he', 'PPS'), ('has', 'HVZ'), ('played', 'VBN'), ('countless', 'JJ'), ('recitals', 'NNS'), (',', ','), ('and', 'CC'), ('where', 'WRB'), ('Thursday', 'NR'), ('night', 'NN'), ('he', 'PPS'), ('celebrated', 'VBD'), ('his', 'PP$'), ('20th', 'OD'), ('season', 'NN'), ('with', 'IN'), ('the', 'AT'), ('Chicago', 'NP-TL'), ('Symphony', 'NN-TL'), ('Orchestra', 'NN-TL'), (',', ','), ('playing', 'VBG'), ('the', 'AT'), ('Brahms', 'NP-TL'), ('Concerto', 'NN-TL'), ('with', 'IN'), ('his', 'PP$'), ('own', 'JJ'), ('slashing', 'VBG'), (',', ','), ('demon-ridden', 'JJ'), ('cadenza', 'NN'), ('melting', 'VBG'), ('into', 'IN'), ('the', 'AT'), ('high', 'JJ'), (',', ','), ('pale', 'JJ'), (',', ','), ('pure', 'JJ'), ('and', 'CC'), ('lovely', 'JJ'), ('song', 'NN'), ('with', 'IN'), ('which', 'WDT'), ('a', 'AT'), ('violinist', 'NN'), ('unlocks', 'VBZ'), ('the', 'AT'), ('heart', 'NN'), ('of', 'IN'), ('the', 'AT'), ('music', 'NN'), (',', ','), ('or', 'CC'), ('forever', 'RB'), ('finds', 'VBZ'), ('it', 'PPO'), ('closed', 'VBN'), ('.', '.')]], [[('There', 'EX'), ('was', 'BEDZ'), ('about', 'IN'), ('that', 'DT'), ('song', 'NN'), ('something', 'PN'), ('incandescent', 'JJ'), (',', ','), ('for', 'CS'), ('this', 'DT'), ('Brahms', 'NP'), ('was', 'BEDZ'), ('Milstein', 'NP'), ('at', 'IN'), ('white', 'JJ'), ('heat', 'NN'), ('.', '.')], [('Not', '*'), ('the', 'AT'), ('noblest', 'JJT'), ('performance', 'NN'), ('we', 'PPSS'), ('have', 'HV'), ('heard', 'VBN'), ('him', 'PPO'), ('play', 'VB'), (',', ','), ('or', 'CC'), ('the', 'AT'), ('most', 'QL'), ('spacious', 'JJ'), (',', ','), ('or', 'CC'), ('even', 'RB'), ('the', 'AT'), ('most', 'QL'), ('eloquent', 'JJ'), ('.', '.')], [('Those', 'DTS'), ('would', 'MD'), ('be', 'BE'), ('reserved', 'VBN'), ('for', 'IN'), ('the', 'AT'), (\"orchestra's\", 'NN$'), ('great', 'JJ'), ('nights', 'NNS'), ('when', 'WRB'), ('the', 'AT'), ('soloist', 'NN'), ('can', 'MD'), ('surpass', 'VB'), ('himself', 'PPL'), ('.', '.')], [('This', 'DT'), ('time', 'NN'), ('the', 'AT'), ('orchestra', 'NN'), ('gave', 'VBD'), ('him', 'PPO'), ('some', 'DTI'), ('superb', 'JJ'), ('support', 'NN'), ('fired', 'VBN'), ('by', 'IN'), ('response', 'NN'), ('to', 'IN'), ('his', 'PP$'), ('own', 'JJ'), ('high', 'JJ'), ('mood', 'NN'), ('.', '.')], [('But', 'CC'), ('he', 'PPS'), ('had', 'HVD'), ('in', 'IN'), ('Walter', 'NP'), ('Hendl', 'NP'), ('a', 'AT'), ('willing', 'JJ'), ('conductor', 'NN'), ('able', 'JJ'), ('only', 'RB'), ('up', 'IN'), ('to', 'IN'), ('a', 'AT'), ('point', 'NN'), ('.', '.')]], ...]\n"
     ]
    }
   ],
   "source": [
    "print(brown.paras(categories='reviews'))\n",
    "print(brown.tagged_paras(categories='reviews'))"
   ]
  },
  {
   "cell_type": "markdown",
   "metadata": {
    "id": "_5zjepdIEJju"
   },
   "source": [
    "# The Indian Language POS-Tagged Corpus includes samples of Indian text annotated with part-of-speech tags:"
   ]
  },
  {
   "cell_type": "code",
   "execution_count": null,
   "metadata": {
    "id": "PuiVA5UXEN4w"
   },
   "outputs": [],
   "source": [
    "from nltk.corpus import indian"
   ]
  },
  {
   "cell_type": "code",
   "execution_count": null,
   "metadata": {
    "colab": {
     "base_uri": "https://localhost:8080/"
    },
    "executionInfo": {
     "elapsed": 1685,
     "status": "ok",
     "timestamp": 1709531301030,
     "user": {
      "displayName": "professor",
      "userId": "02563211122263964727"
     },
     "user_tz": -330
    },
    "id": "9KU4wq3x-_FR",
    "outputId": "21936158-92ca-4e35-a180-eaba2b6cb513"
   },
   "outputs": [
    {
     "data": {
      "text/plain": [
       "['bangla.pos', 'hindi.pos', 'marathi.pos', 'telugu.pos']"
      ]
     },
     "execution_count": 67,
     "metadata": {},
     "output_type": "execute_result"
    }
   ],
   "source": [
    "nltk.corpus.indian.fileids()"
   ]
  },
  {
   "cell_type": "code",
   "execution_count": null,
   "metadata": {
    "id": "gR1YOIujA6bC"
   },
   "outputs": [],
   "source": [
    "print(nltk.corpus.indian.raw('hindi.pos'))\n",
    "print(nltk.corpus.indian.words('hindi.pos'))\n",
    "print(nltk.corpus.indian.tagged_words('hindi.pos'))"
   ]
  },
  {
   "cell_type": "code",
   "execution_count": null,
   "metadata": {
    "colab": {
     "base_uri": "https://localhost:8080/"
    },
    "executionInfo": {
     "elapsed": 409,
     "status": "ok",
     "timestamp": 1709531433665,
     "user": {
      "displayName": "professor",
      "userId": "02563211122263964727"
     },
     "user_tz": -330
    },
    "id": "j3NlCkTNA0yN",
    "outputId": "caeb2d1c-81d8-4b04-89fe-0376259c856c"
   },
   "outputs": [
    {
     "name": "stdout",
     "output_type": "stream",
     "text": [
      "[\"''\", 'सनातनवाद्यांनी', 'व', 'प्रतिगाम्यांनी', 'समाज', ...]\n",
      "[(\"''\", 'SYM'), ('सनातनवाद्यांनी', 'NN'), ('व', 'CC'), ...]\n"
     ]
    }
   ],
   "source": [
    "print(nltk.corpus.indian.words('marathi.pos'))\n",
    "print(nltk.corpus.indian.tagged_words('marathi.pos'))"
   ]
  },
  {
   "cell_type": "code",
   "execution_count": null,
   "metadata": {
    "colab": {
     "base_uri": "https://localhost:8080/"
    },
    "executionInfo": {
     "elapsed": 414,
     "status": "ok",
     "timestamp": 1709531471227,
     "user": {
      "displayName": "professor",
      "userId": "02563211122263964727"
     },
     "user_tz": -330
    },
    "id": "bkDcN5E8A6i-",
    "outputId": "f9c687c6-db26-4bf7-a0df-0a6c8c7fcd36"
   },
   "outputs": [
    {
     "name": "stdout",
     "output_type": "stream",
     "text": [
      "['4', '.', 'ఆడిట్', 'నిర్వహణ', 'ఆడిటర్', 'ఒక', 'కొత్త', ...]\n",
      "[('4', 'QFNUM'), ('.', 'SYM'), ('ఆడిట్', 'NN'), ...]\n"
     ]
    }
   ],
   "source": [
    "print(nltk.corpus.indian.words('telugu.pos'))\n",
    "print(nltk.corpus.indian.tagged_words('telugu.pos'))"
   ]
  },
  {
   "cell_type": "code",
   "execution_count": null,
   "metadata": {
    "colab": {
     "base_uri": "https://localhost:8080/"
    },
    "executionInfo": {
     "elapsed": 5,
     "status": "ok",
     "timestamp": 1709531366783,
     "user": {
      "displayName": "professor",
      "userId": "02563211122263964727"
     },
     "user_tz": -330
    },
    "id": "UPVwt-dNERXp",
    "outputId": "98be7b2e-a0d1-4167-c87f-ace2d87e14bb"
   },
   "outputs": [
    {
     "name": "stdout",
     "output_type": "stream",
     "text": [
      "['মহিষের', 'সন্তান', ':', 'তোড়া', 'উপজাতি', '৷', ...]\n",
      "[('মহিষের', 'NN'), ('সন্তান', 'NN'), (':', 'SYM'), ...]\n"
     ]
    }
   ],
   "source": [
    "print(nltk.corpus.indian.words('bangla.pos'))\n",
    "print(nltk.corpus.indian.tagged_words('bangla.pos'))"
   ]
  }
 ],
 "metadata": {
  "colab": {
   "provenance": []
  },
  "kernelspec": {
   "display_name": "Python 3 (ipykernel)",
   "language": "python",
   "name": "python3"
  },
  "language_info": {
   "codemirror_mode": {
    "name": "ipython",
    "version": 3
   },
   "file_extension": ".py",
   "mimetype": "text/x-python",
   "name": "python",
   "nbconvert_exporter": "python",
   "pygments_lexer": "ipython3",
   "version": "3.11.5"
  }
 },
 "nbformat": 4,
 "nbformat_minor": 4
}
